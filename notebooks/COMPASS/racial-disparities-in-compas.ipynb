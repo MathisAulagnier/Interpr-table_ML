{
 "cells": [
  {
   "cell_type": "markdown",
   "metadata": {},
   "source": [
    "## Unveiling Bias in COMPAS Dataset: A Study on Racial Disparities in Correctional Offender Profiling"
   ]
  },
  {
   "cell_type": "markdown",
   "metadata": {},
   "source": [
    "### 1.Import_Python_Libraries"
   ]
  },
  {
   "cell_type": "code",
   "execution_count": 1,
   "metadata": {
    "execution": {
     "iopub.execute_input": "2025-06-10T16:39:29.646912Z",
     "iopub.status.busy": "2025-06-10T16:39:29.646564Z",
     "iopub.status.idle": "2025-06-10T16:39:33.686550Z",
     "shell.execute_reply": "2025-06-10T16:39:33.684746Z",
     "shell.execute_reply.started": "2025-06-10T16:39:29.646884Z"
    },
    "trusted": true
   },
   "outputs": [],
   "source": [
    "#This is to import the library needed while some will be needed in the project.\n",
    "\n",
    "import numpy as np\n",
    "import pandas as pd\n",
    "import seaborn as sns\n",
    "import matplotlib.pyplot as plt\n",
    "from sklearn.model_selection import train_test_split\n",
    "from sklearn.preprocessing import LabelEncoder\n",
    "from sklearn.preprocessing import StandardScaler\n",
    "\n",
    "from sklearn.ensemble import RandomForestClassifier, GradientBoostingClassifier\n",
    "\n",
    "import joblib\n",
    "\n",
    "\n",
    "from sklearn.model_selection import GridSearchCV\n",
    "from sklearn.pipeline import Pipeline\n",
    "label_encoder = LabelEncoder()\n",
    "scaler = StandardScaler()\n",
    "\n",
    "from sklearn.metrics import accuracy_score, classification_report, confusion_matrix\n",
    "pd.set_option('display.max_columns', None)\n",
    "\n",
    "import warnings\n",
    "warnings.filterwarnings(action='ignore')"
   ]
  },
  {
   "cell_type": "code",
   "execution_count": 2,
   "metadata": {
    "execution": {
     "iopub.execute_input": "2025-06-10T16:39:41.537020Z",
     "iopub.status.busy": "2025-06-10T16:39:41.536548Z",
     "iopub.status.idle": "2025-06-10T16:39:41.791877Z",
     "shell.execute_reply": "2025-06-10T16:39:41.790534Z",
     "shell.execute_reply.started": "2025-06-10T16:39:41.536995Z"
    },
    "trusted": true
   },
   "outputs": [],
   "source": [
    "# This line of code imports the data and converts it into a pandas dataframe\n",
    "\n",
    "compas = pd.read_csv(\"cox-violent-parsed.csv\")"
   ]
  },
  {
   "cell_type": "code",
   "execution_count": 3,
   "metadata": {
    "execution": {
     "iopub.execute_input": "2025-06-10T16:39:41.895651Z",
     "iopub.status.busy": "2025-06-10T16:39:41.895298Z",
     "iopub.status.idle": "2025-06-10T16:39:41.901531Z",
     "shell.execute_reply": "2025-06-10T16:39:41.900036Z",
     "shell.execute_reply.started": "2025-06-10T16:39:41.895624Z"
    },
    "trusted": true
   },
   "outputs": [
    {
     "name": "stdout",
     "output_type": "stream",
     "text": [
      "The compas dataset contain 18316 rows and 52 columns\n"
     ]
    }
   ],
   "source": [
    "#This line of code will display the number of observations(rows) and features(columns) in the dataset\n",
    "row,column=compas.shape\n",
    "print(f\"The compas dataset contain {row} rows and {column} columns\")"
   ]
  },
  {
   "cell_type": "code",
   "execution_count": 4,
   "metadata": {
    "execution": {
     "iopub.execute_input": "2025-06-10T16:39:42.298276Z",
     "iopub.status.busy": "2025-06-10T16:39:42.297953Z",
     "iopub.status.idle": "2025-06-10T16:39:42.334404Z",
     "shell.execute_reply": "2025-06-10T16:39:42.333437Z",
     "shell.execute_reply.started": "2025-06-10T16:39:42.298253Z"
    },
    "trusted": true
   },
   "outputs": [
    {
     "data": {
      "application/vnd.microsoft.datawrangler.viewer.v0+json": {
       "columns": [
        {
         "name": "index",
         "rawType": "int64",
         "type": "integer"
        },
        {
         "name": "id",
         "rawType": "float64",
         "type": "float"
        },
        {
         "name": "name",
         "rawType": "object",
         "type": "string"
        },
        {
         "name": "first",
         "rawType": "object",
         "type": "string"
        },
        {
         "name": "last",
         "rawType": "object",
         "type": "string"
        },
        {
         "name": "compas_screening_date",
         "rawType": "object",
         "type": "string"
        },
        {
         "name": "sex",
         "rawType": "object",
         "type": "string"
        },
        {
         "name": "dob",
         "rawType": "object",
         "type": "string"
        },
        {
         "name": "age",
         "rawType": "int64",
         "type": "integer"
        },
        {
         "name": "age_cat",
         "rawType": "object",
         "type": "string"
        },
        {
         "name": "race",
         "rawType": "object",
         "type": "string"
        },
        {
         "name": "juv_fel_count",
         "rawType": "int64",
         "type": "integer"
        },
        {
         "name": "decile_score",
         "rawType": "int64",
         "type": "integer"
        },
        {
         "name": "juv_misd_count",
         "rawType": "int64",
         "type": "integer"
        },
        {
         "name": "juv_other_count",
         "rawType": "int64",
         "type": "integer"
        },
        {
         "name": "priors_count",
         "rawType": "int64",
         "type": "integer"
        },
        {
         "name": "days_b_screening_arrest",
         "rawType": "float64",
         "type": "float"
        },
        {
         "name": "c_jail_in",
         "rawType": "object",
         "type": "unknown"
        },
        {
         "name": "c_jail_out",
         "rawType": "object",
         "type": "unknown"
        },
        {
         "name": "c_case_number",
         "rawType": "object",
         "type": "unknown"
        },
        {
         "name": "c_offense_date",
         "rawType": "object",
         "type": "unknown"
        },
        {
         "name": "c_arrest_date",
         "rawType": "object",
         "type": "unknown"
        },
        {
         "name": "c_days_from_compas",
         "rawType": "float64",
         "type": "float"
        },
        {
         "name": "c_charge_degree",
         "rawType": "object",
         "type": "unknown"
        },
        {
         "name": "c_charge_desc",
         "rawType": "object",
         "type": "unknown"
        },
        {
         "name": "is_recid",
         "rawType": "int64",
         "type": "integer"
        },
        {
         "name": "r_case_number",
         "rawType": "object",
         "type": "unknown"
        },
        {
         "name": "r_charge_degree",
         "rawType": "object",
         "type": "unknown"
        },
        {
         "name": "r_days_from_arrest",
         "rawType": "float64",
         "type": "float"
        },
        {
         "name": "r_offense_date",
         "rawType": "object",
         "type": "unknown"
        },
        {
         "name": "r_charge_desc",
         "rawType": "object",
         "type": "unknown"
        },
        {
         "name": "r_jail_in",
         "rawType": "object",
         "type": "unknown"
        },
        {
         "name": "r_jail_out",
         "rawType": "object",
         "type": "unknown"
        },
        {
         "name": "violent_recid",
         "rawType": "float64",
         "type": "float"
        },
        {
         "name": "is_violent_recid",
         "rawType": "int64",
         "type": "integer"
        },
        {
         "name": "vr_case_number",
         "rawType": "object",
         "type": "unknown"
        },
        {
         "name": "vr_charge_degree",
         "rawType": "object",
         "type": "unknown"
        },
        {
         "name": "vr_offense_date",
         "rawType": "object",
         "type": "unknown"
        },
        {
         "name": "vr_charge_desc",
         "rawType": "object",
         "type": "unknown"
        },
        {
         "name": "type_of_assessment",
         "rawType": "object",
         "type": "string"
        },
        {
         "name": "decile_score.1",
         "rawType": "int64",
         "type": "integer"
        },
        {
         "name": "score_text",
         "rawType": "object",
         "type": "string"
        },
        {
         "name": "screening_date",
         "rawType": "object",
         "type": "string"
        },
        {
         "name": "v_type_of_assessment",
         "rawType": "object",
         "type": "string"
        },
        {
         "name": "v_decile_score",
         "rawType": "int64",
         "type": "integer"
        },
        {
         "name": "v_score_text",
         "rawType": "object",
         "type": "string"
        },
        {
         "name": "v_screening_date",
         "rawType": "object",
         "type": "string"
        },
        {
         "name": "in_custody",
         "rawType": "object",
         "type": "string"
        },
        {
         "name": "out_custody",
         "rawType": "object",
         "type": "string"
        },
        {
         "name": "priors_count.1",
         "rawType": "int64",
         "type": "integer"
        },
        {
         "name": "start",
         "rawType": "int64",
         "type": "integer"
        },
        {
         "name": "end",
         "rawType": "int64",
         "type": "integer"
        },
        {
         "name": "event",
         "rawType": "int64",
         "type": "integer"
        }
       ],
       "ref": "33fdd9a4-1600-4f0e-bff1-82484d21dbd9",
       "rows": [
        [
         "0",
         "1.0",
         "miguel hernandez",
         "miguel",
         "hernandez",
         "14/08/2013",
         "Male",
         "18/04/1947",
         "69",
         "Greater than 45",
         "Other",
         "0",
         "1",
         "0",
         "0",
         "0",
         "-1.0",
         "13/08/2013 6:03",
         "14/08/2013 5:41",
         "13011352CF10A",
         "13/08/2013",
         null,
         "1.0",
         "(F3)",
         "Aggravated Assault w/Firearm",
         "0",
         null,
         null,
         null,
         null,
         null,
         null,
         null,
         null,
         "0",
         null,
         null,
         null,
         null,
         "Risk of Recidivism",
         "1",
         "Low",
         "14/08/2013",
         "Risk of Violence",
         "1",
         "Low",
         "14/08/2013",
         "07/07/2014",
         "14/07/2014",
         "0",
         "0",
         "327",
         "0"
        ],
        [
         "1",
         "2.0",
         "miguel hernandez",
         "miguel",
         "hernandez",
         "14/08/2013",
         "Male",
         "18/04/1947",
         "69",
         "Greater than 45",
         "Other",
         "0",
         "1",
         "0",
         "0",
         "0",
         "-1.0",
         "13/08/2013 6:03",
         "14/08/2013 5:41",
         "13011352CF10A",
         "13/08/2013",
         null,
         "1.0",
         "(F3)",
         "Aggravated Assault w/Firearm",
         "0",
         null,
         null,
         null,
         null,
         null,
         null,
         null,
         null,
         "0",
         null,
         null,
         null,
         null,
         "Risk of Recidivism",
         "1",
         "Low",
         "14/08/2013",
         "Risk of Violence",
         "1",
         "Low",
         "14/08/2013",
         "07/07/2014",
         "14/07/2014",
         "0",
         "334",
         "961",
         "0"
        ],
        [
         "2",
         "3.0",
         "michael ryan",
         "michael",
         "ryan",
         "31/12/2014",
         "Male",
         "06/02/1985",
         "31",
         "25 - 45",
         "Caucasian",
         "0",
         "5",
         "0",
         "0",
         "0",
         null,
         null,
         null,
         null,
         null,
         null,
         null,
         null,
         null,
         "-1",
         null,
         null,
         null,
         null,
         null,
         null,
         null,
         null,
         "0",
         null,
         null,
         null,
         null,
         "Risk of Recidivism",
         "5",
         "Medium",
         "31/12/2014",
         "Risk of Violence",
         "2",
         "Low",
         "31/12/2014",
         "30/12/2014",
         "03/01/2015",
         "0",
         "3",
         "457",
         "0"
        ],
        [
         "3",
         "4.0",
         "kevon dixon",
         "kevon",
         "dixon",
         "27/01/2013",
         "Male",
         "22/01/1982",
         "34",
         "25 - 45",
         "African-American",
         "0",
         "3",
         "0",
         "0",
         "0",
         "-1.0",
         "26/01/2013 3:45",
         "05/02/2013 5:36",
         "13001275CF10A",
         "26/01/2013",
         null,
         "1.0",
         "(F3)",
         "Felony Battery w/Prior Convict",
         "1",
         "13009779CF10A",
         "(F3)",
         null,
         "05/07/2013",
         "Felony Battery (Dom Strang)",
         null,
         null,
         null,
         "1",
         "13009779CF10A",
         "(F3)",
         "05/07/2013",
         "Felony Battery (Dom Strang)",
         "Risk of Recidivism",
         "3",
         "Low",
         "27/01/2013",
         "Risk of Violence",
         "1",
         "Low",
         "27/01/2013",
         "26/01/2013",
         "05/02/2013",
         "0",
         "9",
         "159",
         "1"
        ],
        [
         "4",
         "5.0",
         "ed philo",
         "ed",
         "philo",
         "14/04/2013",
         "Male",
         "14/05/1991",
         "24",
         "Less than 25",
         "African-American",
         "0",
         "4",
         "0",
         "1",
         "4",
         "-1.0",
         "13/04/2013 4:58",
         "14/04/2013 7:02",
         "13005330CF10A",
         "13/04/2013",
         null,
         "1.0",
         "(F3)",
         "Possession of Cocaine",
         "1",
         "13011511MM10A",
         "(M1)",
         "0.0",
         "16/06/2013",
         "Driving Under The Influence",
         "16/06/2013",
         "16/06/2013",
         null,
         "0",
         null,
         null,
         null,
         null,
         "Risk of Recidivism",
         "4",
         "Low",
         "14/04/2013",
         "Risk of Violence",
         "3",
         "Low",
         "14/04/2013",
         "16/06/2013",
         "16/06/2013",
         "4",
         "0",
         "63",
         "0"
        ]
       ],
       "shape": {
        "columns": 52,
        "rows": 5
       }
      },
      "text/html": [
       "<div>\n",
       "<style scoped>\n",
       "    .dataframe tbody tr th:only-of-type {\n",
       "        vertical-align: middle;\n",
       "    }\n",
       "\n",
       "    .dataframe tbody tr th {\n",
       "        vertical-align: top;\n",
       "    }\n",
       "\n",
       "    .dataframe thead th {\n",
       "        text-align: right;\n",
       "    }\n",
       "</style>\n",
       "<table border=\"1\" class=\"dataframe\">\n",
       "  <thead>\n",
       "    <tr style=\"text-align: right;\">\n",
       "      <th></th>\n",
       "      <th>id</th>\n",
       "      <th>name</th>\n",
       "      <th>first</th>\n",
       "      <th>last</th>\n",
       "      <th>compas_screening_date</th>\n",
       "      <th>sex</th>\n",
       "      <th>dob</th>\n",
       "      <th>age</th>\n",
       "      <th>age_cat</th>\n",
       "      <th>race</th>\n",
       "      <th>juv_fel_count</th>\n",
       "      <th>decile_score</th>\n",
       "      <th>juv_misd_count</th>\n",
       "      <th>juv_other_count</th>\n",
       "      <th>priors_count</th>\n",
       "      <th>days_b_screening_arrest</th>\n",
       "      <th>c_jail_in</th>\n",
       "      <th>c_jail_out</th>\n",
       "      <th>c_case_number</th>\n",
       "      <th>c_offense_date</th>\n",
       "      <th>c_arrest_date</th>\n",
       "      <th>c_days_from_compas</th>\n",
       "      <th>c_charge_degree</th>\n",
       "      <th>c_charge_desc</th>\n",
       "      <th>is_recid</th>\n",
       "      <th>r_case_number</th>\n",
       "      <th>r_charge_degree</th>\n",
       "      <th>r_days_from_arrest</th>\n",
       "      <th>r_offense_date</th>\n",
       "      <th>r_charge_desc</th>\n",
       "      <th>r_jail_in</th>\n",
       "      <th>r_jail_out</th>\n",
       "      <th>violent_recid</th>\n",
       "      <th>is_violent_recid</th>\n",
       "      <th>vr_case_number</th>\n",
       "      <th>vr_charge_degree</th>\n",
       "      <th>vr_offense_date</th>\n",
       "      <th>vr_charge_desc</th>\n",
       "      <th>type_of_assessment</th>\n",
       "      <th>decile_score.1</th>\n",
       "      <th>score_text</th>\n",
       "      <th>screening_date</th>\n",
       "      <th>v_type_of_assessment</th>\n",
       "      <th>v_decile_score</th>\n",
       "      <th>v_score_text</th>\n",
       "      <th>v_screening_date</th>\n",
       "      <th>in_custody</th>\n",
       "      <th>out_custody</th>\n",
       "      <th>priors_count.1</th>\n",
       "      <th>start</th>\n",
       "      <th>end</th>\n",
       "      <th>event</th>\n",
       "    </tr>\n",
       "  </thead>\n",
       "  <tbody>\n",
       "    <tr>\n",
       "      <th>0</th>\n",
       "      <td>1.0</td>\n",
       "      <td>miguel hernandez</td>\n",
       "      <td>miguel</td>\n",
       "      <td>hernandez</td>\n",
       "      <td>14/08/2013</td>\n",
       "      <td>Male</td>\n",
       "      <td>18/04/1947</td>\n",
       "      <td>69</td>\n",
       "      <td>Greater than 45</td>\n",
       "      <td>Other</td>\n",
       "      <td>0</td>\n",
       "      <td>1</td>\n",
       "      <td>0</td>\n",
       "      <td>0</td>\n",
       "      <td>0</td>\n",
       "      <td>-1.0</td>\n",
       "      <td>13/08/2013 6:03</td>\n",
       "      <td>14/08/2013 5:41</td>\n",
       "      <td>13011352CF10A</td>\n",
       "      <td>13/08/2013</td>\n",
       "      <td>NaN</td>\n",
       "      <td>1.0</td>\n",
       "      <td>(F3)</td>\n",
       "      <td>Aggravated Assault w/Firearm</td>\n",
       "      <td>0</td>\n",
       "      <td>NaN</td>\n",
       "      <td>NaN</td>\n",
       "      <td>NaN</td>\n",
       "      <td>NaN</td>\n",
       "      <td>NaN</td>\n",
       "      <td>NaN</td>\n",
       "      <td>NaN</td>\n",
       "      <td>NaN</td>\n",
       "      <td>0</td>\n",
       "      <td>NaN</td>\n",
       "      <td>NaN</td>\n",
       "      <td>NaN</td>\n",
       "      <td>NaN</td>\n",
       "      <td>Risk of Recidivism</td>\n",
       "      <td>1</td>\n",
       "      <td>Low</td>\n",
       "      <td>14/08/2013</td>\n",
       "      <td>Risk of Violence</td>\n",
       "      <td>1</td>\n",
       "      <td>Low</td>\n",
       "      <td>14/08/2013</td>\n",
       "      <td>07/07/2014</td>\n",
       "      <td>14/07/2014</td>\n",
       "      <td>0</td>\n",
       "      <td>0</td>\n",
       "      <td>327</td>\n",
       "      <td>0</td>\n",
       "    </tr>\n",
       "    <tr>\n",
       "      <th>1</th>\n",
       "      <td>2.0</td>\n",
       "      <td>miguel hernandez</td>\n",
       "      <td>miguel</td>\n",
       "      <td>hernandez</td>\n",
       "      <td>14/08/2013</td>\n",
       "      <td>Male</td>\n",
       "      <td>18/04/1947</td>\n",
       "      <td>69</td>\n",
       "      <td>Greater than 45</td>\n",
       "      <td>Other</td>\n",
       "      <td>0</td>\n",
       "      <td>1</td>\n",
       "      <td>0</td>\n",
       "      <td>0</td>\n",
       "      <td>0</td>\n",
       "      <td>-1.0</td>\n",
       "      <td>13/08/2013 6:03</td>\n",
       "      <td>14/08/2013 5:41</td>\n",
       "      <td>13011352CF10A</td>\n",
       "      <td>13/08/2013</td>\n",
       "      <td>NaN</td>\n",
       "      <td>1.0</td>\n",
       "      <td>(F3)</td>\n",
       "      <td>Aggravated Assault w/Firearm</td>\n",
       "      <td>0</td>\n",
       "      <td>NaN</td>\n",
       "      <td>NaN</td>\n",
       "      <td>NaN</td>\n",
       "      <td>NaN</td>\n",
       "      <td>NaN</td>\n",
       "      <td>NaN</td>\n",
       "      <td>NaN</td>\n",
       "      <td>NaN</td>\n",
       "      <td>0</td>\n",
       "      <td>NaN</td>\n",
       "      <td>NaN</td>\n",
       "      <td>NaN</td>\n",
       "      <td>NaN</td>\n",
       "      <td>Risk of Recidivism</td>\n",
       "      <td>1</td>\n",
       "      <td>Low</td>\n",
       "      <td>14/08/2013</td>\n",
       "      <td>Risk of Violence</td>\n",
       "      <td>1</td>\n",
       "      <td>Low</td>\n",
       "      <td>14/08/2013</td>\n",
       "      <td>07/07/2014</td>\n",
       "      <td>14/07/2014</td>\n",
       "      <td>0</td>\n",
       "      <td>334</td>\n",
       "      <td>961</td>\n",
       "      <td>0</td>\n",
       "    </tr>\n",
       "    <tr>\n",
       "      <th>2</th>\n",
       "      <td>3.0</td>\n",
       "      <td>michael ryan</td>\n",
       "      <td>michael</td>\n",
       "      <td>ryan</td>\n",
       "      <td>31/12/2014</td>\n",
       "      <td>Male</td>\n",
       "      <td>06/02/1985</td>\n",
       "      <td>31</td>\n",
       "      <td>25 - 45</td>\n",
       "      <td>Caucasian</td>\n",
       "      <td>0</td>\n",
       "      <td>5</td>\n",
       "      <td>0</td>\n",
       "      <td>0</td>\n",
       "      <td>0</td>\n",
       "      <td>NaN</td>\n",
       "      <td>NaN</td>\n",
       "      <td>NaN</td>\n",
       "      <td>NaN</td>\n",
       "      <td>NaN</td>\n",
       "      <td>NaN</td>\n",
       "      <td>NaN</td>\n",
       "      <td>NaN</td>\n",
       "      <td>NaN</td>\n",
       "      <td>-1</td>\n",
       "      <td>NaN</td>\n",
       "      <td>NaN</td>\n",
       "      <td>NaN</td>\n",
       "      <td>NaN</td>\n",
       "      <td>NaN</td>\n",
       "      <td>NaN</td>\n",
       "      <td>NaN</td>\n",
       "      <td>NaN</td>\n",
       "      <td>0</td>\n",
       "      <td>NaN</td>\n",
       "      <td>NaN</td>\n",
       "      <td>NaN</td>\n",
       "      <td>NaN</td>\n",
       "      <td>Risk of Recidivism</td>\n",
       "      <td>5</td>\n",
       "      <td>Medium</td>\n",
       "      <td>31/12/2014</td>\n",
       "      <td>Risk of Violence</td>\n",
       "      <td>2</td>\n",
       "      <td>Low</td>\n",
       "      <td>31/12/2014</td>\n",
       "      <td>30/12/2014</td>\n",
       "      <td>03/01/2015</td>\n",
       "      <td>0</td>\n",
       "      <td>3</td>\n",
       "      <td>457</td>\n",
       "      <td>0</td>\n",
       "    </tr>\n",
       "    <tr>\n",
       "      <th>3</th>\n",
       "      <td>4.0</td>\n",
       "      <td>kevon dixon</td>\n",
       "      <td>kevon</td>\n",
       "      <td>dixon</td>\n",
       "      <td>27/01/2013</td>\n",
       "      <td>Male</td>\n",
       "      <td>22/01/1982</td>\n",
       "      <td>34</td>\n",
       "      <td>25 - 45</td>\n",
       "      <td>African-American</td>\n",
       "      <td>0</td>\n",
       "      <td>3</td>\n",
       "      <td>0</td>\n",
       "      <td>0</td>\n",
       "      <td>0</td>\n",
       "      <td>-1.0</td>\n",
       "      <td>26/01/2013 3:45</td>\n",
       "      <td>05/02/2013 5:36</td>\n",
       "      <td>13001275CF10A</td>\n",
       "      <td>26/01/2013</td>\n",
       "      <td>NaN</td>\n",
       "      <td>1.0</td>\n",
       "      <td>(F3)</td>\n",
       "      <td>Felony Battery w/Prior Convict</td>\n",
       "      <td>1</td>\n",
       "      <td>13009779CF10A</td>\n",
       "      <td>(F3)</td>\n",
       "      <td>NaN</td>\n",
       "      <td>05/07/2013</td>\n",
       "      <td>Felony Battery (Dom Strang)</td>\n",
       "      <td>NaN</td>\n",
       "      <td>NaN</td>\n",
       "      <td>NaN</td>\n",
       "      <td>1</td>\n",
       "      <td>13009779CF10A</td>\n",
       "      <td>(F3)</td>\n",
       "      <td>05/07/2013</td>\n",
       "      <td>Felony Battery (Dom Strang)</td>\n",
       "      <td>Risk of Recidivism</td>\n",
       "      <td>3</td>\n",
       "      <td>Low</td>\n",
       "      <td>27/01/2013</td>\n",
       "      <td>Risk of Violence</td>\n",
       "      <td>1</td>\n",
       "      <td>Low</td>\n",
       "      <td>27/01/2013</td>\n",
       "      <td>26/01/2013</td>\n",
       "      <td>05/02/2013</td>\n",
       "      <td>0</td>\n",
       "      <td>9</td>\n",
       "      <td>159</td>\n",
       "      <td>1</td>\n",
       "    </tr>\n",
       "    <tr>\n",
       "      <th>4</th>\n",
       "      <td>5.0</td>\n",
       "      <td>ed philo</td>\n",
       "      <td>ed</td>\n",
       "      <td>philo</td>\n",
       "      <td>14/04/2013</td>\n",
       "      <td>Male</td>\n",
       "      <td>14/05/1991</td>\n",
       "      <td>24</td>\n",
       "      <td>Less than 25</td>\n",
       "      <td>African-American</td>\n",
       "      <td>0</td>\n",
       "      <td>4</td>\n",
       "      <td>0</td>\n",
       "      <td>1</td>\n",
       "      <td>4</td>\n",
       "      <td>-1.0</td>\n",
       "      <td>13/04/2013 4:58</td>\n",
       "      <td>14/04/2013 7:02</td>\n",
       "      <td>13005330CF10A</td>\n",
       "      <td>13/04/2013</td>\n",
       "      <td>NaN</td>\n",
       "      <td>1.0</td>\n",
       "      <td>(F3)</td>\n",
       "      <td>Possession of Cocaine</td>\n",
       "      <td>1</td>\n",
       "      <td>13011511MM10A</td>\n",
       "      <td>(M1)</td>\n",
       "      <td>0.0</td>\n",
       "      <td>16/06/2013</td>\n",
       "      <td>Driving Under The Influence</td>\n",
       "      <td>16/06/2013</td>\n",
       "      <td>16/06/2013</td>\n",
       "      <td>NaN</td>\n",
       "      <td>0</td>\n",
       "      <td>NaN</td>\n",
       "      <td>NaN</td>\n",
       "      <td>NaN</td>\n",
       "      <td>NaN</td>\n",
       "      <td>Risk of Recidivism</td>\n",
       "      <td>4</td>\n",
       "      <td>Low</td>\n",
       "      <td>14/04/2013</td>\n",
       "      <td>Risk of Violence</td>\n",
       "      <td>3</td>\n",
       "      <td>Low</td>\n",
       "      <td>14/04/2013</td>\n",
       "      <td>16/06/2013</td>\n",
       "      <td>16/06/2013</td>\n",
       "      <td>4</td>\n",
       "      <td>0</td>\n",
       "      <td>63</td>\n",
       "      <td>0</td>\n",
       "    </tr>\n",
       "  </tbody>\n",
       "</table>\n",
       "</div>"
      ],
      "text/plain": [
       "    id              name    first       last compas_screening_date   sex  \\\n",
       "0  1.0  miguel hernandez   miguel  hernandez            14/08/2013  Male   \n",
       "1  2.0  miguel hernandez   miguel  hernandez            14/08/2013  Male   \n",
       "2  3.0      michael ryan  michael       ryan            31/12/2014  Male   \n",
       "3  4.0       kevon dixon    kevon      dixon            27/01/2013  Male   \n",
       "4  5.0          ed philo       ed      philo            14/04/2013  Male   \n",
       "\n",
       "          dob  age          age_cat              race  juv_fel_count  \\\n",
       "0  18/04/1947   69  Greater than 45             Other              0   \n",
       "1  18/04/1947   69  Greater than 45             Other              0   \n",
       "2  06/02/1985   31          25 - 45         Caucasian              0   \n",
       "3  22/01/1982   34          25 - 45  African-American              0   \n",
       "4  14/05/1991   24     Less than 25  African-American              0   \n",
       "\n",
       "   decile_score  juv_misd_count  juv_other_count  priors_count  \\\n",
       "0             1               0                0             0   \n",
       "1             1               0                0             0   \n",
       "2             5               0                0             0   \n",
       "3             3               0                0             0   \n",
       "4             4               0                1             4   \n",
       "\n",
       "   days_b_screening_arrest        c_jail_in       c_jail_out  c_case_number  \\\n",
       "0                     -1.0  13/08/2013 6:03  14/08/2013 5:41  13011352CF10A   \n",
       "1                     -1.0  13/08/2013 6:03  14/08/2013 5:41  13011352CF10A   \n",
       "2                      NaN              NaN              NaN            NaN   \n",
       "3                     -1.0  26/01/2013 3:45  05/02/2013 5:36  13001275CF10A   \n",
       "4                     -1.0  13/04/2013 4:58  14/04/2013 7:02  13005330CF10A   \n",
       "\n",
       "  c_offense_date c_arrest_date  c_days_from_compas c_charge_degree  \\\n",
       "0     13/08/2013           NaN                 1.0            (F3)   \n",
       "1     13/08/2013           NaN                 1.0            (F3)   \n",
       "2            NaN           NaN                 NaN             NaN   \n",
       "3     26/01/2013           NaN                 1.0            (F3)   \n",
       "4     13/04/2013           NaN                 1.0            (F3)   \n",
       "\n",
       "                    c_charge_desc  is_recid  r_case_number r_charge_degree  \\\n",
       "0    Aggravated Assault w/Firearm         0            NaN             NaN   \n",
       "1    Aggravated Assault w/Firearm         0            NaN             NaN   \n",
       "2                             NaN        -1            NaN             NaN   \n",
       "3  Felony Battery w/Prior Convict         1  13009779CF10A            (F3)   \n",
       "4           Possession of Cocaine         1  13011511MM10A            (M1)   \n",
       "\n",
       "   r_days_from_arrest r_offense_date                r_charge_desc   r_jail_in  \\\n",
       "0                 NaN            NaN                          NaN         NaN   \n",
       "1                 NaN            NaN                          NaN         NaN   \n",
       "2                 NaN            NaN                          NaN         NaN   \n",
       "3                 NaN     05/07/2013  Felony Battery (Dom Strang)         NaN   \n",
       "4                 0.0     16/06/2013  Driving Under The Influence  16/06/2013   \n",
       "\n",
       "   r_jail_out  violent_recid  is_violent_recid vr_case_number  \\\n",
       "0         NaN            NaN                 0            NaN   \n",
       "1         NaN            NaN                 0            NaN   \n",
       "2         NaN            NaN                 0            NaN   \n",
       "3         NaN            NaN                 1  13009779CF10A   \n",
       "4  16/06/2013            NaN                 0            NaN   \n",
       "\n",
       "  vr_charge_degree vr_offense_date               vr_charge_desc  \\\n",
       "0              NaN             NaN                          NaN   \n",
       "1              NaN             NaN                          NaN   \n",
       "2              NaN             NaN                          NaN   \n",
       "3             (F3)      05/07/2013  Felony Battery (Dom Strang)   \n",
       "4              NaN             NaN                          NaN   \n",
       "\n",
       "   type_of_assessment  decile_score.1 score_text screening_date  \\\n",
       "0  Risk of Recidivism               1        Low     14/08/2013   \n",
       "1  Risk of Recidivism               1        Low     14/08/2013   \n",
       "2  Risk of Recidivism               5     Medium     31/12/2014   \n",
       "3  Risk of Recidivism               3        Low     27/01/2013   \n",
       "4  Risk of Recidivism               4        Low     14/04/2013   \n",
       "\n",
       "  v_type_of_assessment  v_decile_score v_score_text v_screening_date  \\\n",
       "0     Risk of Violence               1          Low       14/08/2013   \n",
       "1     Risk of Violence               1          Low       14/08/2013   \n",
       "2     Risk of Violence               2          Low       31/12/2014   \n",
       "3     Risk of Violence               1          Low       27/01/2013   \n",
       "4     Risk of Violence               3          Low       14/04/2013   \n",
       "\n",
       "   in_custody out_custody  priors_count.1  start  end  event  \n",
       "0  07/07/2014  14/07/2014               0      0  327      0  \n",
       "1  07/07/2014  14/07/2014               0    334  961      0  \n",
       "2  30/12/2014  03/01/2015               0      3  457      0  \n",
       "3  26/01/2013  05/02/2013               0      9  159      1  \n",
       "4  16/06/2013  16/06/2013               4      0   63      0  "
      ]
     },
     "execution_count": 4,
     "metadata": {},
     "output_type": "execute_result"
    }
   ],
   "source": [
    "#This will show the first five rows about the dataset\n",
    "\n",
    "compas.head()"
   ]
  },
  {
   "cell_type": "code",
   "execution_count": 5,
   "metadata": {
    "execution": {
     "iopub.execute_input": "2025-06-10T16:39:42.704948Z",
     "iopub.status.busy": "2025-06-10T16:39:42.704651Z",
     "iopub.status.idle": "2025-06-10T16:39:42.754455Z",
     "shell.execute_reply": "2025-06-10T16:39:42.753045Z",
     "shell.execute_reply.started": "2025-06-10T16:39:42.704926Z"
    },
    "trusted": true
   },
   "outputs": [
    {
     "name": "stdout",
     "output_type": "stream",
     "text": [
      "<class 'pandas.core.frame.DataFrame'>\n",
      "RangeIndex: 18316 entries, 0 to 18315\n",
      "Data columns (total 52 columns):\n",
      " #   Column                   Non-Null Count  Dtype  \n",
      "---  ------                   --------------  -----  \n",
      " 0   id                       11001 non-null  float64\n",
      " 1   name                     18316 non-null  object \n",
      " 2   first                    18316 non-null  object \n",
      " 3   last                     18316 non-null  object \n",
      " 4   compas_screening_date    18316 non-null  object \n",
      " 5   sex                      18316 non-null  object \n",
      " 6   dob                      18316 non-null  object \n",
      " 7   age                      18316 non-null  int64  \n",
      " 8   age_cat                  18316 non-null  object \n",
      " 9   race                     18316 non-null  object \n",
      " 10  juv_fel_count            18316 non-null  int64  \n",
      " 11  decile_score             18316 non-null  int64  \n",
      " 12  juv_misd_count           18316 non-null  int64  \n",
      " 13  juv_other_count          18316 non-null  int64  \n",
      " 14  priors_count             18316 non-null  int64  \n",
      " 15  days_b_screening_arrest  17019 non-null  float64\n",
      " 16  c_jail_in                17019 non-null  object \n",
      " 17  c_jail_out               17019 non-null  object \n",
      " 18  c_case_number            17449 non-null  object \n",
      " 19  c_offense_date           14364 non-null  object \n",
      " 20  c_arrest_date            3085 non-null   object \n",
      " 21  c_days_from_compas       17449 non-null  float64\n",
      " 22  c_charge_degree          17449 non-null  object \n",
      " 23  c_charge_desc            17435 non-null  object \n",
      " 24  is_recid                 18316 non-null  int64  \n",
      " 25  r_case_number            8417 non-null   object \n",
      " 26  r_charge_degree          8417 non-null   object \n",
      " 27  r_days_from_arrest       6359 non-null   float64\n",
      " 28  r_offense_date           8417 non-null   object \n",
      " 29  r_charge_desc            8277 non-null   object \n",
      " 30  r_jail_in                6359 non-null   object \n",
      " 31  r_jail_out               6359 non-null   object \n",
      " 32  violent_recid            0 non-null      float64\n",
      " 33  is_violent_recid         18316 non-null  int64  \n",
      " 34  vr_case_number           1339 non-null   object \n",
      " 35  vr_charge_degree         1339 non-null   object \n",
      " 36  vr_offense_date          1339 non-null   object \n",
      " 37  vr_charge_desc           1339 non-null   object \n",
      " 38  type_of_assessment       18316 non-null  object \n",
      " 39  decile_score.1           18316 non-null  int64  \n",
      " 40  score_text               18293 non-null  object \n",
      " 41  screening_date           18316 non-null  object \n",
      " 42  v_type_of_assessment     18316 non-null  object \n",
      " 43  v_decile_score           18316 non-null  int64  \n",
      " 44  v_score_text             18310 non-null  object \n",
      " 45  v_screening_date         18316 non-null  object \n",
      " 46  in_custody               17722 non-null  object \n",
      " 47  out_custody              17722 non-null  object \n",
      " 48  priors_count.1           18316 non-null  int64  \n",
      " 49  start                    18316 non-null  int64  \n",
      " 50  end                      18316 non-null  int64  \n",
      " 51  event                    18316 non-null  int64  \n",
      "dtypes: float64(5), int64(14), object(33)\n",
      "memory usage: 7.3+ MB\n"
     ]
    }
   ],
   "source": [
    "#This info() will show the information about the sets incuding column name, count and data type\n",
    "\n",
    "compas.info()"
   ]
  },
  {
   "cell_type": "code",
   "execution_count": 6,
   "metadata": {
    "execution": {
     "iopub.execute_input": "2025-06-10T16:39:44.779695Z",
     "iopub.status.busy": "2025-06-10T16:39:44.779352Z",
     "iopub.status.idle": "2025-06-10T16:39:44.793389Z",
     "shell.execute_reply": "2025-06-10T16:39:44.791440Z",
     "shell.execute_reply.started": "2025-06-10T16:39:44.779665Z"
    },
    "trusted": true
   },
   "outputs": [],
   "source": [
    "#This drop({[]}) will remove all the column listed that are not needed for the analysis\n",
    "\n",
    "compas = compas.drop(['last','first','out_custody','in_custody','c_offense_date','decile_score.1','priors_count.1','c_case_number','days_b_screening_arrest','start','end','event','screening_date','c_case_number','juv_other_count','juv_misd_count','juv_fel_count','r_days_from_arrest','id','r_charge_degree','r_offense_date', 'vr_case_number','r_case_number','r_jail_out','c_arrest_date','r_charge_desc','r_jail_in', 'violent_recid','vr_charge_degree','vr_offense_date','vr_charge_desc'], axis=1)"
   ]
  },
  {
   "cell_type": "code",
   "execution_count": 7,
   "metadata": {
    "execution": {
     "iopub.execute_input": "2025-06-10T16:39:47.168718Z",
     "iopub.status.busy": "2025-06-10T16:39:47.168440Z",
     "iopub.status.idle": "2025-06-10T16:39:47.236289Z",
     "shell.execute_reply": "2025-06-10T16:39:47.235432Z",
     "shell.execute_reply.started": "2025-06-10T16:39:47.168701Z"
    },
    "trusted": true
   },
   "outputs": [],
   "source": [
    "#This is to change the data type from object to date\n",
    "\n",
    "compas['c_jail_in'] = pd.to_datetime(compas['c_jail_in'])\n",
    "compas['c_jail_out'] = pd.to_datetime(compas['c_jail_out'])\n",
    "compas['days_in_jail'] = abs((compas['c_jail_out'] - compas['c_jail_in']).dt.days)\n",
    "compas['compas_screening_date'] = pd.to_datetime(compas['compas_screening_date'])\n",
    "compas['v_screening_date'] = pd.to_datetime(compas['v_screening_date'])"
   ]
  },
  {
   "cell_type": "code",
   "execution_count": 8,
   "metadata": {
    "execution": {
     "iopub.execute_input": "2025-06-10T16:39:48.337533Z",
     "iopub.status.busy": "2025-06-10T16:39:48.337212Z",
     "iopub.status.idle": "2025-06-10T16:39:48.355631Z",
     "shell.execute_reply": "2025-06-10T16:39:48.354630Z",
     "shell.execute_reply.started": "2025-06-10T16:39:48.337510Z"
    },
    "trusted": true
   },
   "outputs": [
    {
     "name": "stdout",
     "output_type": "stream",
     "text": [
      "<class 'pandas.core.frame.DataFrame'>\n",
      "RangeIndex: 18316 entries, 0 to 18315\n",
      "Data columns (total 23 columns):\n",
      " #   Column                 Non-Null Count  Dtype         \n",
      "---  ------                 --------------  -----         \n",
      " 0   name                   18316 non-null  object        \n",
      " 1   compas_screening_date  18316 non-null  datetime64[ns]\n",
      " 2   sex                    18316 non-null  object        \n",
      " 3   dob                    18316 non-null  object        \n",
      " 4   age                    18316 non-null  int64         \n",
      " 5   age_cat                18316 non-null  object        \n",
      " 6   race                   18316 non-null  object        \n",
      " 7   decile_score           18316 non-null  int64         \n",
      " 8   priors_count           18316 non-null  int64         \n",
      " 9   c_jail_in              17019 non-null  datetime64[ns]\n",
      " 10  c_jail_out             17019 non-null  datetime64[ns]\n",
      " 11  c_days_from_compas     17449 non-null  float64       \n",
      " 12  c_charge_degree        17449 non-null  object        \n",
      " 13  c_charge_desc          17435 non-null  object        \n",
      " 14  is_recid               18316 non-null  int64         \n",
      " 15  is_violent_recid       18316 non-null  int64         \n",
      " 16  type_of_assessment     18316 non-null  object        \n",
      " 17  score_text             18293 non-null  object        \n",
      " 18  v_type_of_assessment   18316 non-null  object        \n",
      " 19  v_decile_score         18316 non-null  int64         \n",
      " 20  v_score_text           18310 non-null  object        \n",
      " 21  v_screening_date       18316 non-null  datetime64[ns]\n",
      " 22  days_in_jail           17019 non-null  float64       \n",
      "dtypes: datetime64[ns](4), float64(2), int64(6), object(11)\n",
      "memory usage: 3.2+ MB\n"
     ]
    }
   ],
   "source": [
    "#This info() will show the information about the sets incuding column name, count and data type\n",
    "\n",
    "compas.info()"
   ]
  },
  {
   "cell_type": "code",
   "execution_count": 9,
   "metadata": {
    "execution": {
     "iopub.execute_input": "2025-06-10T16:39:50.509540Z",
     "iopub.status.busy": "2025-06-10T16:39:50.509166Z",
     "iopub.status.idle": "2025-06-10T16:39:50.526522Z",
     "shell.execute_reply": "2025-06-10T16:39:50.525184Z",
     "shell.execute_reply.started": "2025-06-10T16:39:50.509515Z"
    },
    "trusted": true
   },
   "outputs": [
    {
     "name": "stdout",
     "output_type": "stream",
     "text": [
      "The sum of Null values in each columns \n"
     ]
    },
    {
     "data": {
      "application/vnd.microsoft.datawrangler.viewer.v0+json": {
       "columns": [
        {
         "name": "index",
         "rawType": "object",
         "type": "string"
        },
        {
         "name": "0",
         "rawType": "int64",
         "type": "integer"
        }
       ],
       "ref": "2fe393bc-69f2-42ff-a1e1-a20c4e0bd5b7",
       "rows": [
        [
         "name",
         "0"
        ],
        [
         "compas_screening_date",
         "0"
        ],
        [
         "sex",
         "0"
        ],
        [
         "dob",
         "0"
        ],
        [
         "age",
         "0"
        ],
        [
         "age_cat",
         "0"
        ],
        [
         "race",
         "0"
        ],
        [
         "decile_score",
         "0"
        ],
        [
         "priors_count",
         "0"
        ],
        [
         "c_jail_in",
         "1297"
        ],
        [
         "c_jail_out",
         "1297"
        ],
        [
         "c_days_from_compas",
         "867"
        ],
        [
         "c_charge_degree",
         "867"
        ],
        [
         "c_charge_desc",
         "881"
        ],
        [
         "is_recid",
         "0"
        ],
        [
         "is_violent_recid",
         "0"
        ],
        [
         "type_of_assessment",
         "0"
        ],
        [
         "score_text",
         "23"
        ],
        [
         "v_type_of_assessment",
         "0"
        ],
        [
         "v_decile_score",
         "0"
        ],
        [
         "v_score_text",
         "6"
        ],
        [
         "v_screening_date",
         "0"
        ],
        [
         "days_in_jail",
         "1297"
        ]
       ],
       "shape": {
        "columns": 1,
        "rows": 23
       }
      },
      "text/plain": [
       "name                        0\n",
       "compas_screening_date       0\n",
       "sex                         0\n",
       "dob                         0\n",
       "age                         0\n",
       "age_cat                     0\n",
       "race                        0\n",
       "decile_score                0\n",
       "priors_count                0\n",
       "c_jail_in                1297\n",
       "c_jail_out               1297\n",
       "c_days_from_compas        867\n",
       "c_charge_degree           867\n",
       "c_charge_desc             881\n",
       "is_recid                    0\n",
       "is_violent_recid            0\n",
       "type_of_assessment          0\n",
       "score_text                 23\n",
       "v_type_of_assessment        0\n",
       "v_decile_score              0\n",
       "v_score_text                6\n",
       "v_screening_date            0\n",
       "days_in_jail             1297\n",
       "dtype: int64"
      ]
     },
     "execution_count": 9,
     "metadata": {},
     "output_type": "execute_result"
    }
   ],
   "source": [
    "#data.isnull().sum() is used to get the number of missing records in each column\n",
    "\n",
    "print(\"The sum of Null values in each columns \")\n",
    "\n",
    "compas.isnull().sum()"
   ]
  },
  {
   "cell_type": "code",
   "execution_count": 10,
   "metadata": {
    "execution": {
     "iopub.execute_input": "2025-06-10T16:39:52.778538Z",
     "iopub.status.busy": "2025-06-10T16:39:52.778236Z",
     "iopub.status.idle": "2025-06-10T16:39:52.815983Z",
     "shell.execute_reply": "2025-06-10T16:39:52.814991Z",
     "shell.execute_reply.started": "2025-06-10T16:39:52.778516Z"
    },
    "trusted": true
   },
   "outputs": [
    {
     "name": "stdout",
     "output_type": "stream",
     "text": [
      "name                     0\n",
      "compas_screening_date    0\n",
      "sex                      0\n",
      "dob                      0\n",
      "age                      0\n",
      "age_cat                  0\n",
      "race                     0\n",
      "decile_score             0\n",
      "priors_count             0\n",
      "c_jail_in                0\n",
      "c_jail_out               0\n",
      "c_days_from_compas       0\n",
      "c_charge_degree          0\n",
      "c_charge_desc            0\n",
      "is_recid                 0\n",
      "is_violent_recid         0\n",
      "type_of_assessment       0\n",
      "score_text               0\n",
      "v_type_of_assessment     0\n",
      "v_decile_score           0\n",
      "v_score_text             0\n",
      "v_screening_date         0\n",
      "days_in_jail             0\n",
      "dtype: int64\n"
     ]
    }
   ],
   "source": [
    "# Impute missing values for numerical variables\n",
    "numeric_cols = ['c_days_from_compas', 'v_decile_score']\n",
    "for col in numeric_cols:\n",
    "    compas[col].fillna(compas[col].median(), inplace=True)\n",
    "\n",
    "# Impute missing values for categorical variables\n",
    "categorical_cols = ['c_charge_degree', 'score_text', 'v_score_text', 'c_jail_in', 'c_jail_out', 'c_charge_desc', 'days_in_jail']\n",
    "for col in categorical_cols:\n",
    "    compas[col].fillna(compas[col].mode()[0], inplace=True)\n",
    "\n",
    "# Check if there are any missing values remaining\n",
    "print(compas.isnull().sum())"
   ]
  },
  {
   "cell_type": "markdown",
   "metadata": {},
   "source": [
    "**The code above replace the missing value in numerical column with the column's median while it does the same in categorical column using the column's mode**"
   ]
  },
  {
   "cell_type": "code",
   "execution_count": 11,
   "metadata": {
    "execution": {
     "iopub.execute_input": "2025-06-10T16:39:56.144040Z",
     "iopub.status.busy": "2025-06-10T16:39:56.143656Z",
     "iopub.status.idle": "2025-06-10T16:39:56.186011Z",
     "shell.execute_reply": "2025-06-10T16:39:56.184334Z",
     "shell.execute_reply.started": "2025-06-10T16:39:56.144011Z"
    },
    "trusted": true
   },
   "outputs": [
    {
     "data": {
      "application/vnd.microsoft.datawrangler.viewer.v0+json": {
       "columns": [
        {
         "name": "index",
         "rawType": "object",
         "type": "string"
        },
        {
         "name": "compas_screening_date",
         "rawType": "object",
         "type": "unknown"
        },
        {
         "name": "age",
         "rawType": "float64",
         "type": "float"
        },
        {
         "name": "decile_score",
         "rawType": "float64",
         "type": "float"
        },
        {
         "name": "priors_count",
         "rawType": "float64",
         "type": "float"
        },
        {
         "name": "c_jail_in",
         "rawType": "object",
         "type": "unknown"
        },
        {
         "name": "c_jail_out",
         "rawType": "object",
         "type": "unknown"
        },
        {
         "name": "c_days_from_compas",
         "rawType": "float64",
         "type": "float"
        },
        {
         "name": "is_recid",
         "rawType": "float64",
         "type": "float"
        },
        {
         "name": "is_violent_recid",
         "rawType": "float64",
         "type": "float"
        },
        {
         "name": "v_decile_score",
         "rawType": "float64",
         "type": "float"
        },
        {
         "name": "v_screening_date",
         "rawType": "object",
         "type": "unknown"
        },
        {
         "name": "days_in_jail",
         "rawType": "float64",
         "type": "float"
        }
       ],
       "ref": "0c270dd8-30e6-4720-bbc1-70b3e869419b",
       "rows": [
        [
         "count",
         "18316",
         "18316.0",
         "18316.0",
         "18316.0",
         "18316",
         "18316",
         "18316.0",
         "18316.0",
         "18316.0",
         "18316.0",
         "18316",
         "18316.0"
        ],
        [
         "mean",
         "2013-11-22 23:28:18.973574912",
         "34.01927276697969",
         "4.99705175802577",
         "3.913190652981",
         "2013-11-06 20:46:19.209434624",
         "2013-12-06 14:03:25.459707392",
         "55.01091941471937",
         "0.41477396811530903",
         "0.07310548154618912",
         "4.022821576763485",
         "2013-11-22 23:28:18.973574912",
         "23.293513867656692"
        ],
        [
         "min",
         "2013-01-01 00:00:00",
         "18.0",
         "-1.0",
         "0.0",
         "2013-01-01 01:31:00",
         "2013-01-02 01:12:00",
         "0.0",
         "-1.0",
         "0.0",
         "-1.0",
         "2013-01-01 00:00:00",
         "0.0"
        ],
        [
         "25%",
         "2013-04-22 00:00:00",
         "25.0",
         "2.0",
         "0.0",
         "2013-03-30 01:04:00",
         "2013-04-30 07:29:00",
         "1.0",
         "0.0",
         "0.0",
         "2.0",
         "2013-04-22 00:00:00",
         "0.0"
        ],
        [
         "50%",
         "2013-11-08 00:00:00",
         "31.0",
         "5.0",
         "2.0",
         "2013-10-18 01:38:00",
         "2013-11-13 01:00:00",
         "1.0",
         "0.0",
         "0.0",
         "4.0",
         "2013-11-08 00:00:00",
         "1.0"
        ],
        [
         "75%",
         "2014-05-29 00:00:00",
         "41.0",
         "8.0",
         "5.0",
         "2014-05-15 10:48:00",
         "2014-06-10 07:35:00",
         "2.0",
         "1.0",
         "0.0",
         "6.0",
         "2014-05-29 00:00:00",
         "14.0"
        ],
        [
         "max",
         "2014-12-31 00:00:00",
         "96.0",
         "10.0",
         "43.0",
         "2016-03-11 10:26:00",
         "2020-01-01 00:00:00",
         "9485.0",
         "1.0",
         "1.0",
         "10.0",
         "2014-12-31 00:00:00",
         "2152.0"
        ],
        [
         "std",
         null,
         "11.667811331966467",
         "2.9375689841627377",
         "5.299864132400727",
         null,
         null,
         "310.6102188329741",
         "0.576449361575425",
         "0.26031667229014915",
         "2.6141894311056006",
         null,
         "64.91707390832028"
        ]
       ],
       "shape": {
        "columns": 12,
        "rows": 8
       }
      },
      "text/html": [
       "<div>\n",
       "<style scoped>\n",
       "    .dataframe tbody tr th:only-of-type {\n",
       "        vertical-align: middle;\n",
       "    }\n",
       "\n",
       "    .dataframe tbody tr th {\n",
       "        vertical-align: top;\n",
       "    }\n",
       "\n",
       "    .dataframe thead th {\n",
       "        text-align: right;\n",
       "    }\n",
       "</style>\n",
       "<table border=\"1\" class=\"dataframe\">\n",
       "  <thead>\n",
       "    <tr style=\"text-align: right;\">\n",
       "      <th></th>\n",
       "      <th>compas_screening_date</th>\n",
       "      <th>age</th>\n",
       "      <th>decile_score</th>\n",
       "      <th>priors_count</th>\n",
       "      <th>c_jail_in</th>\n",
       "      <th>c_jail_out</th>\n",
       "      <th>c_days_from_compas</th>\n",
       "      <th>is_recid</th>\n",
       "      <th>is_violent_recid</th>\n",
       "      <th>v_decile_score</th>\n",
       "      <th>v_screening_date</th>\n",
       "      <th>days_in_jail</th>\n",
       "    </tr>\n",
       "  </thead>\n",
       "  <tbody>\n",
       "    <tr>\n",
       "      <th>count</th>\n",
       "      <td>18316</td>\n",
       "      <td>18316.000000</td>\n",
       "      <td>18316.000000</td>\n",
       "      <td>18316.000000</td>\n",
       "      <td>18316</td>\n",
       "      <td>18316</td>\n",
       "      <td>18316.000000</td>\n",
       "      <td>18316.000000</td>\n",
       "      <td>18316.000000</td>\n",
       "      <td>18316.000000</td>\n",
       "      <td>18316</td>\n",
       "      <td>18316.000000</td>\n",
       "    </tr>\n",
       "    <tr>\n",
       "      <th>mean</th>\n",
       "      <td>2013-11-22 23:28:18.973574912</td>\n",
       "      <td>34.019273</td>\n",
       "      <td>4.997052</td>\n",
       "      <td>3.913191</td>\n",
       "      <td>2013-11-06 20:46:19.209434624</td>\n",
       "      <td>2013-12-06 14:03:25.459707392</td>\n",
       "      <td>55.010919</td>\n",
       "      <td>0.414774</td>\n",
       "      <td>0.073105</td>\n",
       "      <td>4.022822</td>\n",
       "      <td>2013-11-22 23:28:18.973574912</td>\n",
       "      <td>23.293514</td>\n",
       "    </tr>\n",
       "    <tr>\n",
       "      <th>min</th>\n",
       "      <td>2013-01-01 00:00:00</td>\n",
       "      <td>18.000000</td>\n",
       "      <td>-1.000000</td>\n",
       "      <td>0.000000</td>\n",
       "      <td>2013-01-01 01:31:00</td>\n",
       "      <td>2013-01-02 01:12:00</td>\n",
       "      <td>0.000000</td>\n",
       "      <td>-1.000000</td>\n",
       "      <td>0.000000</td>\n",
       "      <td>-1.000000</td>\n",
       "      <td>2013-01-01 00:00:00</td>\n",
       "      <td>0.000000</td>\n",
       "    </tr>\n",
       "    <tr>\n",
       "      <th>25%</th>\n",
       "      <td>2013-04-22 00:00:00</td>\n",
       "      <td>25.000000</td>\n",
       "      <td>2.000000</td>\n",
       "      <td>0.000000</td>\n",
       "      <td>2013-03-30 01:04:00</td>\n",
       "      <td>2013-04-30 07:29:00</td>\n",
       "      <td>1.000000</td>\n",
       "      <td>0.000000</td>\n",
       "      <td>0.000000</td>\n",
       "      <td>2.000000</td>\n",
       "      <td>2013-04-22 00:00:00</td>\n",
       "      <td>0.000000</td>\n",
       "    </tr>\n",
       "    <tr>\n",
       "      <th>50%</th>\n",
       "      <td>2013-11-08 00:00:00</td>\n",
       "      <td>31.000000</td>\n",
       "      <td>5.000000</td>\n",
       "      <td>2.000000</td>\n",
       "      <td>2013-10-18 01:38:00</td>\n",
       "      <td>2013-11-13 01:00:00</td>\n",
       "      <td>1.000000</td>\n",
       "      <td>0.000000</td>\n",
       "      <td>0.000000</td>\n",
       "      <td>4.000000</td>\n",
       "      <td>2013-11-08 00:00:00</td>\n",
       "      <td>1.000000</td>\n",
       "    </tr>\n",
       "    <tr>\n",
       "      <th>75%</th>\n",
       "      <td>2014-05-29 00:00:00</td>\n",
       "      <td>41.000000</td>\n",
       "      <td>8.000000</td>\n",
       "      <td>5.000000</td>\n",
       "      <td>2014-05-15 10:48:00</td>\n",
       "      <td>2014-06-10 07:35:00</td>\n",
       "      <td>2.000000</td>\n",
       "      <td>1.000000</td>\n",
       "      <td>0.000000</td>\n",
       "      <td>6.000000</td>\n",
       "      <td>2014-05-29 00:00:00</td>\n",
       "      <td>14.000000</td>\n",
       "    </tr>\n",
       "    <tr>\n",
       "      <th>max</th>\n",
       "      <td>2014-12-31 00:00:00</td>\n",
       "      <td>96.000000</td>\n",
       "      <td>10.000000</td>\n",
       "      <td>43.000000</td>\n",
       "      <td>2016-03-11 10:26:00</td>\n",
       "      <td>2020-01-01 00:00:00</td>\n",
       "      <td>9485.000000</td>\n",
       "      <td>1.000000</td>\n",
       "      <td>1.000000</td>\n",
       "      <td>10.000000</td>\n",
       "      <td>2014-12-31 00:00:00</td>\n",
       "      <td>2152.000000</td>\n",
       "    </tr>\n",
       "    <tr>\n",
       "      <th>std</th>\n",
       "      <td>NaN</td>\n",
       "      <td>11.667811</td>\n",
       "      <td>2.937569</td>\n",
       "      <td>5.299864</td>\n",
       "      <td>NaN</td>\n",
       "      <td>NaN</td>\n",
       "      <td>310.610219</td>\n",
       "      <td>0.576449</td>\n",
       "      <td>0.260317</td>\n",
       "      <td>2.614189</td>\n",
       "      <td>NaN</td>\n",
       "      <td>64.917074</td>\n",
       "    </tr>\n",
       "  </tbody>\n",
       "</table>\n",
       "</div>"
      ],
      "text/plain": [
       "               compas_screening_date           age  decile_score  \\\n",
       "count                          18316  18316.000000  18316.000000   \n",
       "mean   2013-11-22 23:28:18.973574912     34.019273      4.997052   \n",
       "min              2013-01-01 00:00:00     18.000000     -1.000000   \n",
       "25%              2013-04-22 00:00:00     25.000000      2.000000   \n",
       "50%              2013-11-08 00:00:00     31.000000      5.000000   \n",
       "75%              2014-05-29 00:00:00     41.000000      8.000000   \n",
       "max              2014-12-31 00:00:00     96.000000     10.000000   \n",
       "std                              NaN     11.667811      2.937569   \n",
       "\n",
       "       priors_count                      c_jail_in  \\\n",
       "count  18316.000000                          18316   \n",
       "mean       3.913191  2013-11-06 20:46:19.209434624   \n",
       "min        0.000000            2013-01-01 01:31:00   \n",
       "25%        0.000000            2013-03-30 01:04:00   \n",
       "50%        2.000000            2013-10-18 01:38:00   \n",
       "75%        5.000000            2014-05-15 10:48:00   \n",
       "max       43.000000            2016-03-11 10:26:00   \n",
       "std        5.299864                            NaN   \n",
       "\n",
       "                          c_jail_out  c_days_from_compas      is_recid  \\\n",
       "count                          18316        18316.000000  18316.000000   \n",
       "mean   2013-12-06 14:03:25.459707392           55.010919      0.414774   \n",
       "min              2013-01-02 01:12:00            0.000000     -1.000000   \n",
       "25%              2013-04-30 07:29:00            1.000000      0.000000   \n",
       "50%              2013-11-13 01:00:00            1.000000      0.000000   \n",
       "75%              2014-06-10 07:35:00            2.000000      1.000000   \n",
       "max              2020-01-01 00:00:00         9485.000000      1.000000   \n",
       "std                              NaN          310.610219      0.576449   \n",
       "\n",
       "       is_violent_recid  v_decile_score               v_screening_date  \\\n",
       "count      18316.000000    18316.000000                          18316   \n",
       "mean           0.073105        4.022822  2013-11-22 23:28:18.973574912   \n",
       "min            0.000000       -1.000000            2013-01-01 00:00:00   \n",
       "25%            0.000000        2.000000            2013-04-22 00:00:00   \n",
       "50%            0.000000        4.000000            2013-11-08 00:00:00   \n",
       "75%            0.000000        6.000000            2014-05-29 00:00:00   \n",
       "max            1.000000       10.000000            2014-12-31 00:00:00   \n",
       "std            0.260317        2.614189                            NaN   \n",
       "\n",
       "       days_in_jail  \n",
       "count  18316.000000  \n",
       "mean      23.293514  \n",
       "min        0.000000  \n",
       "25%        0.000000  \n",
       "50%        1.000000  \n",
       "75%       14.000000  \n",
       "max     2152.000000  \n",
       "std       64.917074  "
      ]
     },
     "execution_count": 11,
     "metadata": {},
     "output_type": "execute_result"
    }
   ],
   "source": [
    "#This provides a statistics summary of all data, excluding object, category etc\n",
    "\n",
    "compas.describe()"
   ]
  },
  {
   "cell_type": "markdown",
   "metadata": {},
   "source": [
    "**This shows the summary statistics of the numerical variable, i.e the mean, standard deviation, minimum, lower quartile, interquartile, upper quartile and maxinmum vaues of each variables**"
   ]
  },
  {
   "cell_type": "markdown",
   "metadata": {},
   "source": [
    "### 3.Data_Visualisation"
   ]
  },
  {
   "cell_type": "code",
   "execution_count": 12,
   "metadata": {
    "execution": {
     "iopub.execute_input": "2025-06-10T16:40:01.190613Z",
     "iopub.status.busy": "2025-06-10T16:40:01.190205Z",
     "iopub.status.idle": "2025-06-10T16:40:01.591903Z",
     "shell.execute_reply": "2025-06-10T16:40:01.590619Z",
     "shell.execute_reply.started": "2025-06-10T16:40:01.190579Z"
    },
    "trusted": true
   },
   "outputs": [
    {
     "data": {
      "image/png": "[encoded data removed]",
      "text/plain": [
       "<Figure size 800x600 with 1 Axes>"
      ]
     },
     "metadata": {},
     "output_type": "display_data"
    }
   ],
   "source": [
    "# Plot histogram of age\n",
    "plt.figure(figsize=(8, 6))\n",
    "sns.histplot(data=compas, x='age', bins=30, kde=True)\n",
    "plt.title('Histogram of Age')\n",
    "plt.xlabel('Age')\n",
    "plt.ylabel('Frequency')\n",
    "plt.show()"
   ]
  },
  {
   "cell_type": "markdown",
   "metadata": {},
   "source": [
    "**The Mean decile score by age range indicate that less than 25 had highest decile mean score follow by 25 - 45 while 45 and above had lowest.**"
   ]
  },
  {
   "cell_type": "code",
   "execution_count": 13,
   "metadata": {
    "execution": {
     "iopub.execute_input": "2025-06-10T16:43:52.393915Z",
     "iopub.status.busy": "2025-06-10T16:43:52.393593Z",
     "iopub.status.idle": "2025-06-10T16:43:52.575813Z",
     "shell.execute_reply": "2025-06-10T16:43:52.575031Z",
     "shell.execute_reply.started": "2025-06-10T16:43:52.393893Z"
    },
    "trusted": true
   },
   "outputs": [
    {
     "data": {
      "image/png": "[encoded data removed]",
      "text/plain": [
       "<Figure size 800x500 with 1 Axes>"
      ]
     },
     "metadata": {},
     "output_type": "display_data"
    }
   ],
   "source": [
    "# Plot Count number of cases by sex and age\n",
    "\n",
    "plt.figure(figsize=(8, 5)) \n",
    "ax = sns.countplot(data=compas, x=\"sex\", hue=\"age_cat\", palette=sns.color_palette(\"hsv\", 3)) \n",
    "plt.title(\"Number of cases by sex and age\") \n",
    "plt.xlabel(\"\") \n",
    "\n",
    "# Calculate total count for each category\n",
    "total_counts = compas.groupby(['sex', 'age_cat']).size().reset_index(name='total_count')\n",
    "\n",
    "# Add percentage labels to each bar\n",
    "for p in ax.patches:\n",
    "    height = p.get_height()\n",
    "    ax.text(p.get_x() + p.get_width()/2., height + 0.1, f'{100 * height / total_counts[\"total_count\"].sum():.1f}%', ha=\"center\")\n",
    "\n",
    "plt.show(block=False)"
   ]
  },
  {
   "cell_type": "markdown",
   "metadata": {},
   "source": [
    "**The count plot also show's the higher the age the lesser number of cases while it shows that female had lesser cases compare to male.**"
   ]
  },
  {
   "cell_type": "code",
   "execution_count": 14,
   "metadata": {
    "execution": {
     "iopub.execute_input": "2025-06-10T16:43:56.110653Z",
     "iopub.status.busy": "2025-06-10T16:43:56.110313Z",
     "iopub.status.idle": "2025-06-10T16:43:56.336937Z",
     "shell.execute_reply": "2025-06-10T16:43:56.335811Z",
     "shell.execute_reply.started": "2025-06-10T16:43:56.110628Z"
    },
    "trusted": true
   },
   "outputs": [
    {
     "data": {
      "image/png": "[encoded data removed]",
      "text/plain": [
       "<Figure size 800x600 with 1 Axes>"
      ]
     },
     "metadata": {},
     "output_type": "display_data"
    }
   ],
   "source": [
    "# Calculate percentage of each race\n",
    "race_percentage = compas['race'].value_counts(normalize=True) * 100\n",
    "\n",
    "# Sort races by count in descending order\n",
    "race_percentage = race_percentage.sort_values(ascending=False)\n",
    "\n",
    "# Visualize race distribution with percentage labels\n",
    "plt.figure(figsize=(8, 6))\n",
    "sns.barplot(x=race_percentage.index, y=race_percentage.values, palette=\"Blues_r\")\n",
    "\n",
    "# Add percentage labels to each bar\n",
    "for i, val in enumerate(race_percentage.values):\n",
    "    plt.text(i, val + 0.5, f\"{val:.2f}%\", ha=\"center\")\n",
    "\n",
    "plt.title('Distribution of Racial Groups')\n",
    "plt.xlabel('Race')\n",
    "plt.ylabel('Percentage')\n",
    "plt.xticks(rotation=45)\n",
    "plt.tight_layout()\n",
    "plt.show()"
   ]
  },
  {
   "cell_type": "markdown",
   "metadata": {},
   "source": [
    "**Aside African_American and Native American thats are slightly positively skewed toward the lower violent risk assessment, the rest of the race are strongly positively skewed to violent risk assessment.**"
   ]
  },
  {
   "cell_type": "markdown",
   "metadata": {},
   "source": [
    "**The pairplot is a combination of scatter plot, which also have same interpretation with heatmap. The plot shows that decile_score, priors_count, is_violent_recid and v_decile_score only contributed to determination of is_recid (whether the defendant was recidivated within a specific time frame).**"
   ]
  },
  {
   "cell_type": "code",
   "execution_count": 15,
   "metadata": {
    "execution": {
     "iopub.execute_input": "2025-06-10T16:46:59.065071Z",
     "iopub.status.busy": "2025-06-10T16:46:59.064798Z",
     "iopub.status.idle": "2025-06-10T16:46:59.076074Z",
     "shell.execute_reply": "2025-06-10T16:46:59.075148Z",
     "shell.execute_reply.started": "2025-06-10T16:46:59.065048Z"
    },
    "trusted": true
   },
   "outputs": [],
   "source": [
    "#Converting Sex to numerical value from object\n",
    "\n",
    "compas[\"sex\"].replace({'Male': 1, 'Female': 0}, inplace=True)"
   ]
  },
  {
   "cell_type": "markdown",
   "metadata": {},
   "source": [
    "### 4.Training_the_Dataset_and_Modelling"
   ]
  },
  {
   "cell_type": "code",
   "execution_count": 16,
   "metadata": {
    "execution": {
     "iopub.execute_input": "2025-06-10T16:47:43.395722Z",
     "iopub.status.busy": "2025-06-10T16:47:43.395356Z",
     "iopub.status.idle": "2025-06-10T16:47:43.402785Z",
     "shell.execute_reply": "2025-06-10T16:47:43.401634Z",
     "shell.execute_reply.started": "2025-06-10T16:47:43.395695Z"
    },
    "trusted": true
   },
   "outputs": [],
   "source": [
    "# Selecting X and Y\n",
    "X = compas[['age', 'sex', 'decile_score', 'priors_count', 'race', 'days_in_jail', 'c_days_from_compas', 'is_violent_recid', 'v_decile_score']]\n",
    "Y = compas['is_recid']"
   ]
  },
  {
   "cell_type": "code",
   "execution_count": 17,
   "metadata": {
    "execution": {
     "iopub.execute_input": "2025-06-10T16:47:45.536091Z",
     "iopub.status.busy": "2025-06-10T16:47:45.535710Z",
     "iopub.status.idle": "2025-06-10T16:47:45.547947Z",
     "shell.execute_reply": "2025-06-10T16:47:45.547097Z",
     "shell.execute_reply.started": "2025-06-10T16:47:45.536064Z"
    },
    "trusted": true
   },
   "outputs": [
    {
     "data": {
      "application/vnd.microsoft.datawrangler.viewer.v0+json": {
       "columns": [
        {
         "name": "index",
         "rawType": "int64",
         "type": "integer"
        },
        {
         "name": "age",
         "rawType": "int64",
         "type": "integer"
        },
        {
         "name": "sex",
         "rawType": "int64",
         "type": "integer"
        },
        {
         "name": "decile_score",
         "rawType": "int64",
         "type": "integer"
        },
        {
         "name": "priors_count",
         "rawType": "int64",
         "type": "integer"
        },
        {
         "name": "race",
         "rawType": "object",
         "type": "string"
        },
        {
         "name": "days_in_jail",
         "rawType": "float64",
         "type": "float"
        },
        {
         "name": "c_days_from_compas",
         "rawType": "float64",
         "type": "float"
        },
        {
         "name": "is_violent_recid",
         "rawType": "int64",
         "type": "integer"
        },
        {
         "name": "v_decile_score",
         "rawType": "int64",
         "type": "integer"
        }
       ],
       "ref": "45565ada-bf38-4f6e-af19-103f7b787eee",
       "rows": [
        [
         "0",
         "69",
         "1",
         "1",
         "0",
         "Other",
         "0.0",
         "1.0",
         "0",
         "1"
        ],
        [
         "1",
         "69",
         "1",
         "1",
         "0",
         "Other",
         "0.0",
         "1.0",
         "0",
         "1"
        ],
        [
         "2",
         "31",
         "1",
         "5",
         "0",
         "Caucasian",
         "0.0",
         "1.0",
         "0",
         "2"
        ],
        [
         "3",
         "34",
         "1",
         "3",
         "0",
         "African-American",
         "10.0",
         "1.0",
         "1",
         "1"
        ],
        [
         "4",
         "24",
         "1",
         "4",
         "4",
         "African-American",
         "1.0",
         "1.0",
         "0",
         "3"
        ]
       ],
       "shape": {
        "columns": 9,
        "rows": 5
       }
      },
      "text/html": [
       "<div>\n",
       "<style scoped>\n",
       "    .dataframe tbody tr th:only-of-type {\n",
       "        vertical-align: middle;\n",
       "    }\n",
       "\n",
       "    .dataframe tbody tr th {\n",
       "        vertical-align: top;\n",
       "    }\n",
       "\n",
       "    .dataframe thead th {\n",
       "        text-align: right;\n",
       "    }\n",
       "</style>\n",
       "<table border=\"1\" class=\"dataframe\">\n",
       "  <thead>\n",
       "    <tr style=\"text-align: right;\">\n",
       "      <th></th>\n",
       "      <th>age</th>\n",
       "      <th>sex</th>\n",
       "      <th>decile_score</th>\n",
       "      <th>priors_count</th>\n",
       "      <th>race</th>\n",
       "      <th>days_in_jail</th>\n",
       "      <th>c_days_from_compas</th>\n",
       "      <th>is_violent_recid</th>\n",
       "      <th>v_decile_score</th>\n",
       "    </tr>\n",
       "  </thead>\n",
       "  <tbody>\n",
       "    <tr>\n",
       "      <th>0</th>\n",
       "      <td>69</td>\n",
       "      <td>1</td>\n",
       "      <td>1</td>\n",
       "      <td>0</td>\n",
       "      <td>Other</td>\n",
       "      <td>0.0</td>\n",
       "      <td>1.0</td>\n",
       "      <td>0</td>\n",
       "      <td>1</td>\n",
       "    </tr>\n",
       "    <tr>\n",
       "      <th>1</th>\n",
       "      <td>69</td>\n",
       "      <td>1</td>\n",
       "      <td>1</td>\n",
       "      <td>0</td>\n",
       "      <td>Other</td>\n",
       "      <td>0.0</td>\n",
       "      <td>1.0</td>\n",
       "      <td>0</td>\n",
       "      <td>1</td>\n",
       "    </tr>\n",
       "    <tr>\n",
       "      <th>2</th>\n",
       "      <td>31</td>\n",
       "      <td>1</td>\n",
       "      <td>5</td>\n",
       "      <td>0</td>\n",
       "      <td>Caucasian</td>\n",
       "      <td>0.0</td>\n",
       "      <td>1.0</td>\n",
       "      <td>0</td>\n",
       "      <td>2</td>\n",
       "    </tr>\n",
       "    <tr>\n",
       "      <th>3</th>\n",
       "      <td>34</td>\n",
       "      <td>1</td>\n",
       "      <td>3</td>\n",
       "      <td>0</td>\n",
       "      <td>African-American</td>\n",
       "      <td>10.0</td>\n",
       "      <td>1.0</td>\n",
       "      <td>1</td>\n",
       "      <td>1</td>\n",
       "    </tr>\n",
       "    <tr>\n",
       "      <th>4</th>\n",
       "      <td>24</td>\n",
       "      <td>1</td>\n",
       "      <td>4</td>\n",
       "      <td>4</td>\n",
       "      <td>African-American</td>\n",
       "      <td>1.0</td>\n",
       "      <td>1.0</td>\n",
       "      <td>0</td>\n",
       "      <td>3</td>\n",
       "    </tr>\n",
       "  </tbody>\n",
       "</table>\n",
       "</div>"
      ],
      "text/plain": [
       "   age  sex  decile_score  priors_count              race  days_in_jail  \\\n",
       "0   69    1             1             0             Other           0.0   \n",
       "1   69    1             1             0             Other           0.0   \n",
       "2   31    1             5             0         Caucasian           0.0   \n",
       "3   34    1             3             0  African-American          10.0   \n",
       "4   24    1             4             4  African-American           1.0   \n",
       "\n",
       "   c_days_from_compas  is_violent_recid  v_decile_score  \n",
       "0                 1.0                 0               1  \n",
       "1                 1.0                 0               1  \n",
       "2                 1.0                 0               2  \n",
       "3                 1.0                 1               1  \n",
       "4                 1.0                 0               3  "
      ]
     },
     "execution_count": 17,
     "metadata": {},
     "output_type": "execute_result"
    }
   ],
   "source": [
    "#Checking the five  row of the data set X\n",
    "\n",
    "X.head()"
   ]
  },
  {
   "cell_type": "code",
   "execution_count": 18,
   "metadata": {
    "execution": {
     "iopub.execute_input": "2025-06-10T16:47:50.510976Z",
     "iopub.status.busy": "2025-06-10T16:47:50.510645Z",
     "iopub.status.idle": "2025-06-10T16:47:50.522012Z",
     "shell.execute_reply": "2025-06-10T16:47:50.520743Z",
     "shell.execute_reply.started": "2025-06-10T16:47:50.510951Z"
    },
    "trusted": true
   },
   "outputs": [],
   "source": [
    "# Encode the 'race' column\n",
    "X_encoded = X.copy() \n",
    "X_encoded['race_encoded'] = label_encoder.fit_transform(X['race'])"
   ]
  },
  {
   "cell_type": "code",
   "execution_count": 19,
   "metadata": {
    "execution": {
     "iopub.execute_input": "2025-06-10T16:47:51.916689Z",
     "iopub.status.busy": "2025-06-10T16:47:51.916348Z",
     "iopub.status.idle": "2025-06-10T16:47:51.922659Z",
     "shell.execute_reply": "2025-06-10T16:47:51.921530Z",
     "shell.execute_reply.started": "2025-06-10T16:47:51.916659Z"
    },
    "trusted": true
   },
   "outputs": [],
   "source": [
    "# Drop the original 'race' column\n",
    "X_encoded.drop(['race'], axis=1, inplace=True)"
   ]
  },
  {
   "cell_type": "code",
   "execution_count": 20,
   "metadata": {
    "execution": {
     "iopub.execute_input": "2025-06-10T16:47:52.794777Z",
     "iopub.status.busy": "2025-06-10T16:47:52.794463Z",
     "iopub.status.idle": "2025-06-10T16:47:52.858390Z",
     "shell.execute_reply": "2025-06-10T16:47:52.857652Z",
     "shell.execute_reply.started": "2025-06-10T16:47:52.794755Z"
    },
    "trusted": true
   },
   "outputs": [],
   "source": [
    "# Splitting the Dataset for Training and Testing\n",
    "X_train, X_test, Y_train, Y_test = train_test_split(X_encoded, Y, test_size=0.2, stratify=X_encoded[['race_encoded']], random_state=42)"
   ]
  },
  {
   "cell_type": "code",
   "execution_count": 21,
   "metadata": {
    "execution": {
     "iopub.execute_input": "2025-06-10T16:47:54.142076Z",
     "iopub.status.busy": "2025-06-10T16:47:54.141197Z",
     "iopub.status.idle": "2025-06-10T16:47:54.152033Z",
     "shell.execute_reply": "2025-06-10T16:47:54.150741Z",
     "shell.execute_reply.started": "2025-06-10T16:47:54.142033Z"
    },
    "trusted": true
   },
   "outputs": [],
   "source": [
    "# Scale numerical features\n",
    "\n",
    "X_train_scaled = scaler.fit_transform(X_train)\n",
    "X_test_scaled = scaler.transform(X_test)"
   ]
  },
  {
   "cell_type": "code",
   "execution_count": 22,
   "metadata": {
    "execution": {
     "iopub.execute_input": "2025-06-10T16:47:57.649893Z",
     "iopub.status.busy": "2025-06-10T16:47:57.649537Z",
     "iopub.status.idle": "2025-06-10T16:47:57.655328Z",
     "shell.execute_reply": "2025-06-10T16:47:57.654262Z",
     "shell.execute_reply.started": "2025-06-10T16:47:57.649869Z"
    },
    "trusted": true
   },
   "outputs": [],
   "source": [
    "# Initialize the Model (Random Forest Classifier)\n",
    "model = RandomForestClassifier()"
   ]
  },
  {
   "cell_type": "code",
   "execution_count": 23,
   "metadata": {
    "execution": {
     "iopub.execute_input": "2025-06-10T16:47:58.037721Z",
     "iopub.status.busy": "2025-06-10T16:47:58.037367Z",
     "iopub.status.idle": "2025-06-10T16:47:59.349010Z",
     "shell.execute_reply": "2025-06-10T16:47:59.348150Z",
     "shell.execute_reply.started": "2025-06-10T16:47:58.037697Z"
    },
    "trusted": true
   },
   "outputs": [
    {
     "data": {
      "text/html": [
       "<style>#sk-container-id-1 {\n",
       "  /* Definition of color scheme common for light and dark mode */\n",
       "  --sklearn-color-text: #000;\n",
       "  --sklearn-color-text-muted: #666;\n",
       "  --sklearn-color-line: gray;\n",
       "  /* Definition of color scheme for unfitted estimators */\n",
       "  --sklearn-color-unfitted-level-0: #fff5e6;\n",
       "  --sklearn-color-unfitted-level-1: #f6e4d2;\n",
       "  --sklearn-color-unfitted-level-2: #ffe0b3;\n",
       "  --sklearn-color-unfitted-level-3: chocolate;\n",
       "  /* Definition of color scheme for fitted estimators */\n",
       "  --sklearn-color-fitted-level-0: #f0f8ff;\n",
       "  --sklearn-color-fitted-level-1: #d4ebff;\n",
       "  --sklearn-color-fitted-level-2: #b3dbfd;\n",
       "  --sklearn-color-fitted-level-3: cornflowerblue;\n",
       "\n",
       "  /* Specific color for light theme */\n",
       "  --sklearn-color-text-on-default-background: var(--sg-text-color, var(--theme-code-foreground, var(--jp-content-font-color1, black)));\n",
       "  --sklearn-color-background: var(--sg-background-color, var(--theme-background, var(--jp-layout-color0, white)));\n",
       "  --sklearn-color-border-box: var(--sg-text-color, var(--theme-code-foreground, var(--jp-content-font-color1, black)));\n",
       "  --sklearn-color-icon: #696969;\n",
       "\n",
       "  @media (prefers-color-scheme: dark) {\n",
       "    /* Redefinition of color scheme for dark theme */\n",
       "    --sklearn-color-text-on-default-background: var(--sg-text-color, var(--theme-code-foreground, var(--jp-content-font-color1, white)));\n",
       "    --sklearn-color-background: var(--sg-background-color, var(--theme-background, var(--jp-layout-color0, #111)));\n",
       "    --sklearn-color-border-box: var(--sg-text-color, var(--theme-code-foreground, var(--jp-content-font-color1, white)));\n",
       "    --sklearn-color-icon: #878787;\n",
       "  }\n",
       "}\n",
       "\n",
       "#sk-container-id-1 {\n",
       "  color: var(--sklearn-color-text);\n",
       "}\n",
       "\n",
       "#sk-container-id-1 pre {\n",
       "  padding: 0;\n",
       "}\n",
       "\n",
       "#sk-container-id-1 input.sk-hidden--visually {\n",
       "  border: 0;\n",
       "  clip: rect(1px 1px 1px 1px);\n",
       "  clip: rect(1px, 1px, 1px, 1px);\n",
       "  height: 1px;\n",
       "  margin: -1px;\n",
       "  overflow: hidden;\n",
       "  padding: 0;\n",
       "  position: absolute;\n",
       "  width: 1px;\n",
       "}\n",
       "\n",
       "#sk-container-id-1 div.sk-dashed-wrapped {\n",
       "  border: 1px dashed var(--sklearn-color-line);\n",
       "  margin: 0 0.4em 0.5em 0.4em;\n",
       "  box-sizing: border-box;\n",
       "  padding-bottom: 0.4em;\n",
       "  background-color: var(--sklearn-color-background);\n",
       "}\n",
       "\n",
       "#sk-container-id-1 div.sk-container {\n",
       "  /* jupyter's `normalize.less` sets `[hidden] { display: none; }`\n",
       "     but bootstrap.min.css set `[hidden] { display: none !important; }`\n",
       "     so we also need the `!important` here to be able to override the\n",
       "     default hidden behavior on the sphinx rendered scikit-learn.org.\n",
       "     See: https://github.com/scikit-learn/scikit-learn/issues/21755 */\n",
       "  display: inline-block !important;\n",
       "  position: relative;\n",
       "}\n",
       "\n",
       "#sk-container-id-1 div.sk-text-repr-fallback {\n",
       "  display: none;\n",
       "}\n",
       "\n",
       "div.sk-parallel-item,\n",
       "div.sk-serial,\n",
       "div.sk-item {\n",
       "  /* draw centered vertical line to link estimators */\n",
       "  background-image: linear-gradient(var(--sklearn-color-text-on-default-background), var(--sklearn-color-text-on-default-background));\n",
       "  background-size: 2px 100%;\n",
       "  background-repeat: no-repeat;\n",
       "  background-position: center center;\n",
       "}\n",
       "\n",
       "/* Parallel-specific style estimator block */\n",
       "\n",
       "#sk-container-id-1 div.sk-parallel-item::after {\n",
       "  content: \"\";\n",
       "  width: 100%;\n",
       "  border-bottom: 2px solid var(--sklearn-color-text-on-default-background);\n",
       "  flex-grow: 1;\n",
       "}\n",
       "\n",
       "#sk-container-id-1 div.sk-parallel {\n",
       "  display: flex;\n",
       "  align-items: stretch;\n",
       "  justify-content: center;\n",
       "  background-color: var(--sklearn-color-background);\n",
       "  position: relative;\n",
       "}\n",
       "\n",
       "#sk-container-id-1 div.sk-parallel-item {\n",
       "  display: flex;\n",
       "  flex-direction: column;\n",
       "}\n",
       "\n",
       "#sk-container-id-1 div.sk-parallel-item:first-child::after {\n",
       "  align-self: flex-end;\n",
       "  width: 50%;\n",
       "}\n",
       "\n",
       "#sk-container-id-1 div.sk-parallel-item:last-child::after {\n",
       "  align-self: flex-start;\n",
       "  width: 50%;\n",
       "}\n",
       "\n",
       "#sk-container-id-1 div.sk-parallel-item:only-child::after {\n",
       "  width: 0;\n",
       "}\n",
       "\n",
       "/* Serial-specific style estimator block */\n",
       "\n",
       "#sk-container-id-1 div.sk-serial {\n",
       "  display: flex;\n",
       "  flex-direction: column;\n",
       "  align-items: center;\n",
       "  background-color: var(--sklearn-color-background);\n",
       "  padding-right: 1em;\n",
       "  padding-left: 1em;\n",
       "}\n",
       "\n",
       "\n",
       "/* Toggleable style: style used for estimator/Pipeline/ColumnTransformer box that is\n",
       "clickable and can be expanded/collapsed.\n",
       "- Pipeline and ColumnTransformer use this feature and define the default style\n",
       "- Estimators will overwrite some part of the style using the `sk-estimator` class\n",
       "*/\n",
       "\n",
       "/* Pipeline and ColumnTransformer style (default) */\n",
       "\n",
       "#sk-container-id-1 div.sk-toggleable {\n",
       "  /* Default theme specific background. It is overwritten whether we have a\n",
       "  specific estimator or a Pipeline/ColumnTransformer */\n",
       "  background-color: var(--sklearn-color-background);\n",
       "}\n",
       "\n",
       "/* Toggleable label */\n",
       "#sk-container-id-1 label.sk-toggleable__label {\n",
       "  cursor: pointer;\n",
       "  display: flex;\n",
       "  width: 100%;\n",
       "  margin-bottom: 0;\n",
       "  padding: 0.5em;\n",
       "  box-sizing: border-box;\n",
       "  text-align: center;\n",
       "  align-items: start;\n",
       "  justify-content: space-between;\n",
       "  gap: 0.5em;\n",
       "}\n",
       "\n",
       "#sk-container-id-1 label.sk-toggleable__label .caption {\n",
       "  font-size: 0.6rem;\n",
       "  font-weight: lighter;\n",
       "  color: var(--sklearn-color-text-muted);\n",
       "}\n",
       "\n",
       "#sk-container-id-1 label.sk-toggleable__label-arrow:before {\n",
       "  /* Arrow on the left of the label */\n",
       "  content: \"▸\";\n",
       "  float: left;\n",
       "  margin-right: 0.25em;\n",
       "  color: var(--sklearn-color-icon);\n",
       "}\n",
       "\n",
       "#sk-container-id-1 label.sk-toggleable__label-arrow:hover:before {\n",
       "  color: var(--sklearn-color-text);\n",
       "}\n",
       "\n",
       "/* Toggleable content - dropdown */\n",
       "\n",
       "#sk-container-id-1 div.sk-toggleable__content {\n",
       "  max-height: 0;\n",
       "  max-width: 0;\n",
       "  overflow: hidden;\n",
       "  text-align: left;\n",
       "  /* unfitted */\n",
       "  background-color: var(--sklearn-color-unfitted-level-0);\n",
       "}\n",
       "\n",
       "#sk-container-id-1 div.sk-toggleable__content.fitted {\n",
       "  /* fitted */\n",
       "  background-color: var(--sklearn-color-fitted-level-0);\n",
       "}\n",
       "\n",
       "#sk-container-id-1 div.sk-toggleable__content pre {\n",
       "  margin: 0.2em;\n",
       "  border-radius: 0.25em;\n",
       "  color: var(--sklearn-color-text);\n",
       "  /* unfitted */\n",
       "  background-color: var(--sklearn-color-unfitted-level-0);\n",
       "}\n",
       "\n",
       "#sk-container-id-1 div.sk-toggleable__content.fitted pre {\n",
       "  /* unfitted */\n",
       "  background-color: var(--sklearn-color-fitted-level-0);\n",
       "}\n",
       "\n",
       "#sk-container-id-1 input.sk-toggleable__control:checked~div.sk-toggleable__content {\n",
       "  /* Expand drop-down */\n",
       "  max-height: 200px;\n",
       "  max-width: 100%;\n",
       "  overflow: auto;\n",
       "}\n",
       "\n",
       "#sk-container-id-1 input.sk-toggleable__control:checked~label.sk-toggleable__label-arrow:before {\n",
       "  content: \"▾\";\n",
       "}\n",
       "\n",
       "/* Pipeline/ColumnTransformer-specific style */\n",
       "\n",
       "#sk-container-id-1 div.sk-label input.sk-toggleable__control:checked~label.sk-toggleable__label {\n",
       "  color: var(--sklearn-color-text);\n",
       "  background-color: var(--sklearn-color-unfitted-level-2);\n",
       "}\n",
       "\n",
       "#sk-container-id-1 div.sk-label.fitted input.sk-toggleable__control:checked~label.sk-toggleable__label {\n",
       "  background-color: var(--sklearn-color-fitted-level-2);\n",
       "}\n",
       "\n",
       "/* Estimator-specific style */\n",
       "\n",
       "/* Colorize estimator box */\n",
       "#sk-container-id-1 div.sk-estimator input.sk-toggleable__control:checked~label.sk-toggleable__label {\n",
       "  /* unfitted */\n",
       "  background-color: var(--sklearn-color-unfitted-level-2);\n",
       "}\n",
       "\n",
       "#sk-container-id-1 div.sk-estimator.fitted input.sk-toggleable__control:checked~label.sk-toggleable__label {\n",
       "  /* fitted */\n",
       "  background-color: var(--sklearn-color-fitted-level-2);\n",
       "}\n",
       "\n",
       "#sk-container-id-1 div.sk-label label.sk-toggleable__label,\n",
       "#sk-container-id-1 div.sk-label label {\n",
       "  /* The background is the default theme color */\n",
       "  color: var(--sklearn-color-text-on-default-background);\n",
       "}\n",
       "\n",
       "/* On hover, darken the color of the background */\n",
       "#sk-container-id-1 div.sk-label:hover label.sk-toggleable__label {\n",
       "  color: var(--sklearn-color-text);\n",
       "  background-color: var(--sklearn-color-unfitted-level-2);\n",
       "}\n",
       "\n",
       "/* Label box, darken color on hover, fitted */\n",
       "#sk-container-id-1 div.sk-label.fitted:hover label.sk-toggleable__label.fitted {\n",
       "  color: var(--sklearn-color-text);\n",
       "  background-color: var(--sklearn-color-fitted-level-2);\n",
       "}\n",
       "\n",
       "/* Estimator label */\n",
       "\n",
       "#sk-container-id-1 div.sk-label label {\n",
       "  font-family: monospace;\n",
       "  font-weight: bold;\n",
       "  display: inline-block;\n",
       "  line-height: 1.2em;\n",
       "}\n",
       "\n",
       "#sk-container-id-1 div.sk-label-container {\n",
       "  text-align: center;\n",
       "}\n",
       "\n",
       "/* Estimator-specific */\n",
       "#sk-container-id-1 div.sk-estimator {\n",
       "  font-family: monospace;\n",
       "  border: 1px dotted var(--sklearn-color-border-box);\n",
       "  border-radius: 0.25em;\n",
       "  box-sizing: border-box;\n",
       "  margin-bottom: 0.5em;\n",
       "  /* unfitted */\n",
       "  background-color: var(--sklearn-color-unfitted-level-0);\n",
       "}\n",
       "\n",
       "#sk-container-id-1 div.sk-estimator.fitted {\n",
       "  /* fitted */\n",
       "  background-color: var(--sklearn-color-fitted-level-0);\n",
       "}\n",
       "\n",
       "/* on hover */\n",
       "#sk-container-id-1 div.sk-estimator:hover {\n",
       "  /* unfitted */\n",
       "  background-color: var(--sklearn-color-unfitted-level-2);\n",
       "}\n",
       "\n",
       "#sk-container-id-1 div.sk-estimator.fitted:hover {\n",
       "  /* fitted */\n",
       "  background-color: var(--sklearn-color-fitted-level-2);\n",
       "}\n",
       "\n",
       "/* Specification for estimator info (e.g. \"i\" and \"?\") */\n",
       "\n",
       "/* Common style for \"i\" and \"?\" */\n",
       "\n",
       ".sk-estimator-doc-link,\n",
       "a:link.sk-estimator-doc-link,\n",
       "a:visited.sk-estimator-doc-link {\n",
       "  float: right;\n",
       "  font-size: smaller;\n",
       "  line-height: 1em;\n",
       "  font-family: monospace;\n",
       "  background-color: var(--sklearn-color-background);\n",
       "  border-radius: 1em;\n",
       "  height: 1em;\n",
       "  width: 1em;\n",
       "  text-decoration: none !important;\n",
       "  margin-left: 0.5em;\n",
       "  text-align: center;\n",
       "  /* unfitted */\n",
       "  border: var(--sklearn-color-unfitted-level-1) 1pt solid;\n",
       "  color: var(--sklearn-color-unfitted-level-1);\n",
       "}\n",
       "\n",
       ".sk-estimator-doc-link.fitted,\n",
       "a:link.sk-estimator-doc-link.fitted,\n",
       "a:visited.sk-estimator-doc-link.fitted {\n",
       "  /* fitted */\n",
       "  border: var(--sklearn-color-fitted-level-1) 1pt solid;\n",
       "  color: var(--sklearn-color-fitted-level-1);\n",
       "}\n",
       "\n",
       "/* On hover */\n",
       "div.sk-estimator:hover .sk-estimator-doc-link:hover,\n",
       ".sk-estimator-doc-link:hover,\n",
       "div.sk-label-container:hover .sk-estimator-doc-link:hover,\n",
       ".sk-estimator-doc-link:hover {\n",
       "  /* unfitted */\n",
       "  background-color: var(--sklearn-color-unfitted-level-3);\n",
       "  color: var(--sklearn-color-background);\n",
       "  text-decoration: none;\n",
       "}\n",
       "\n",
       "div.sk-estimator.fitted:hover .sk-estimator-doc-link.fitted:hover,\n",
       ".sk-estimator-doc-link.fitted:hover,\n",
       "div.sk-label-container:hover .sk-estimator-doc-link.fitted:hover,\n",
       ".sk-estimator-doc-link.fitted:hover {\n",
       "  /* fitted */\n",
       "  background-color: var(--sklearn-color-fitted-level-3);\n",
       "  color: var(--sklearn-color-background);\n",
       "  text-decoration: none;\n",
       "}\n",
       "\n",
       "/* Span, style for the box shown on hovering the info icon */\n",
       ".sk-estimator-doc-link span {\n",
       "  display: none;\n",
       "  z-index: 9999;\n",
       "  position: relative;\n",
       "  font-weight: normal;\n",
       "  right: .2ex;\n",
       "  padding: .5ex;\n",
       "  margin: .5ex;\n",
       "  width: min-content;\n",
       "  min-width: 20ex;\n",
       "  max-width: 50ex;\n",
       "  color: var(--sklearn-color-text);\n",
       "  box-shadow: 2pt 2pt 4pt #999;\n",
       "  /* unfitted */\n",
       "  background: var(--sklearn-color-unfitted-level-0);\n",
       "  border: .5pt solid var(--sklearn-color-unfitted-level-3);\n",
       "}\n",
       "\n",
       ".sk-estimator-doc-link.fitted span {\n",
       "  /* fitted */\n",
       "  background: var(--sklearn-color-fitted-level-0);\n",
       "  border: var(--sklearn-color-fitted-level-3);\n",
       "}\n",
       "\n",
       ".sk-estimator-doc-link:hover span {\n",
       "  display: block;\n",
       "}\n",
       "\n",
       "/* \"?\"-specific style due to the `<a>` HTML tag */\n",
       "\n",
       "#sk-container-id-1 a.estimator_doc_link {\n",
       "  float: right;\n",
       "  font-size: 1rem;\n",
       "  line-height: 1em;\n",
       "  font-family: monospace;\n",
       "  background-color: var(--sklearn-color-background);\n",
       "  border-radius: 1rem;\n",
       "  height: 1rem;\n",
       "  width: 1rem;\n",
       "  text-decoration: none;\n",
       "  /* unfitted */\n",
       "  color: var(--sklearn-color-unfitted-level-1);\n",
       "  border: var(--sklearn-color-unfitted-level-1) 1pt solid;\n",
       "}\n",
       "\n",
       "#sk-container-id-1 a.estimator_doc_link.fitted {\n",
       "  /* fitted */\n",
       "  border: var(--sklearn-color-fitted-level-1) 1pt solid;\n",
       "  color: var(--sklearn-color-fitted-level-1);\n",
       "}\n",
       "\n",
       "/* On hover */\n",
       "#sk-container-id-1 a.estimator_doc_link:hover {\n",
       "  /* unfitted */\n",
       "  background-color: var(--sklearn-color-unfitted-level-3);\n",
       "  color: var(--sklearn-color-background);\n",
       "  text-decoration: none;\n",
       "}\n",
       "\n",
       "#sk-container-id-1 a.estimator_doc_link.fitted:hover {\n",
       "  /* fitted */\n",
       "  background-color: var(--sklearn-color-fitted-level-3);\n",
       "}\n",
       "</style><div id=\"sk-container-id-1\" class=\"sk-top-container\"><div class=\"sk-text-repr-fallback\"><pre>RandomForestClassifier()</pre><b>In a Jupyter environment, please rerun this cell to show the HTML representation or trust the notebook. <br />On GitHub, the HTML representation is unable to render, please try loading this page with nbviewer.org.</b></div><div class=\"sk-container\" hidden><div class=\"sk-item\"><div class=\"sk-estimator fitted sk-toggleable\"><input class=\"sk-toggleable__control sk-hidden--visually\" id=\"sk-estimator-id-1\" type=\"checkbox\" checked><label for=\"sk-estimator-id-1\" class=\"sk-toggleable__label fitted sk-toggleable__label-arrow\"><div><div>RandomForestClassifier</div></div><div><a class=\"sk-estimator-doc-link fitted\" rel=\"noreferrer\" target=\"_blank\" href=\"https://scikit-learn.org/1.6/modules/generated/sklearn.ensemble.RandomForestClassifier.html\">?<span>Documentation for RandomForestClassifier</span></a><span class=\"sk-estimator-doc-link fitted\">i<span>Fitted</span></span></div></label><div class=\"sk-toggleable__content fitted\"><pre>RandomForestClassifier()</pre></div> </div></div></div></div>"
      ],
      "text/plain": [
       "RandomForestClassifier()"
      ]
     },
     "execution_count": 23,
     "metadata": {},
     "output_type": "execute_result"
    }
   ],
   "source": [
    "# Train the Model\n",
    "model.fit(X_train_scaled, Y_train)"
   ]
  },
  {
   "cell_type": "code",
   "execution_count": 24,
   "metadata": {
    "execution": {
     "iopub.execute_input": "2025-06-10T16:47:59.350472Z",
     "iopub.status.busy": "2025-06-10T16:47:59.350210Z",
     "iopub.status.idle": "2025-06-10T16:47:59.428505Z",
     "shell.execute_reply": "2025-06-10T16:47:59.427462Z",
     "shell.execute_reply.started": "2025-06-10T16:47:59.350451Z"
    },
    "trusted": true
   },
   "outputs": [],
   "source": [
    "# Evaluate the Model\n",
    "Y_pred = model.predict(X_test_scaled)"
   ]
  },
  {
   "cell_type": "code",
   "execution_count": 25,
   "metadata": {
    "execution": {
     "iopub.execute_input": "2025-06-10T16:48:01.457230Z",
     "iopub.status.busy": "2025-06-10T16:48:01.456890Z",
     "iopub.status.idle": "2025-06-10T16:48:01.474420Z",
     "shell.execute_reply": "2025-06-10T16:48:01.473226Z",
     "shell.execute_reply.started": "2025-06-10T16:48:01.457205Z"
    },
    "trusted": true
   },
   "outputs": [
    {
     "name": "stdout",
     "output_type": "stream",
     "text": [
      "Confusion Matrix:\n",
      " [[  93   59   11]\n",
      " [  42 1589  173]\n",
      " [  11  139 1547]]\n",
      "Classification Report:\n",
      "               precision    recall  f1-score   support\n",
      "\n",
      "          -1       0.64      0.57      0.60       163\n",
      "           0       0.89      0.88      0.88      1804\n",
      "           1       0.89      0.91      0.90      1697\n",
      "\n",
      "    accuracy                           0.88      3664\n",
      "   macro avg       0.81      0.79      0.80      3664\n",
      "weighted avg       0.88      0.88      0.88      3664\n",
      "\n"
     ]
    }
   ],
   "source": [
    "# Calculate evaluation metrics\n",
    "print(\"Confusion Matrix:\\n\", confusion_matrix(Y_test, Y_pred))\n",
    "print(\"Classification Report:\\n\", classification_report(Y_test, Y_pred))"
   ]
  },
  {
   "cell_type": "code",
   "execution_count": 26,
   "metadata": {
    "trusted": true
   },
   "outputs": [],
   "source": [
    "# Enregister the model\n",
    "joblib.dump(model, 'random_forest_model.JOBLIB')\n",
    "\n",
    "# Enregistrer X_prepared.csv\n",
    "X_prepared = pd.DataFrame(X_train_scaled, columns=X_train.columns)\n",
    "X_prepared.to_csv('X_prepared.csv', index=False)\n"
   ]
  },
  {
   "cell_type": "code",
   "execution_count": 27,
   "metadata": {},
   "outputs": [
    {
     "name": "stdout",
     "output_type": "stream",
     "text": [
      "Gradient Boosting Confusion Matrix:\n",
      " [[  83   77    3]\n",
      " [  27 1312  465]\n",
      " [  29  567 1101]]\n",
      "Gradient Boosting Classification Report:\n",
      "               precision    recall  f1-score   support\n",
      "\n",
      "          -1       0.60      0.51      0.55       163\n",
      "           0       0.67      0.73      0.70      1804\n",
      "           1       0.70      0.65      0.67      1697\n",
      "\n",
      "    accuracy                           0.68      3664\n",
      "   macro avg       0.66      0.63      0.64      3664\n",
      "weighted avg       0.68      0.68      0.68      3664\n",
      "\n"
     ]
    },
    {
     "data": {
      "text/plain": [
       "['gradient_boosting_model.JOBLIB']"
      ]
     },
     "execution_count": 27,
     "metadata": {},
     "output_type": "execute_result"
    }
   ],
   "source": [
    "# Entrainer Gradiant Boosting Classifier\n",
    "gb_model = GradientBoostingClassifier()\n",
    "# Train the Gradient Boosting Classifier\n",
    "gb_model.fit(X_train_scaled, Y_train)\n",
    "# Evaluate the Gradient Boosting Classifier\n",
    "gb_Y_pred = gb_model.predict(X_test_scaled)\n",
    "# Calculate evaluation metrics for Gradient Boosting Classifier\n",
    "print(\"Gradient Boosting Confusion Matrix:\\n\", confusion_matrix(Y_test, gb_Y_pred))\n",
    "print(\"Gradient Boosting Classification Report:\\n\", classification_report(Y_test, gb_Y_pred))\n",
    "# Enregister le modèle de Gradient Boosting\n",
    "joblib.dump(gb_model, 'gradient_boosting_model.JOBLIB')\n"
   ]
  }
 ],
 "metadata": {
  "kaggle": {
   "accelerator": "none",
   "dataSources": [
    {
     "datasetId": 1498,
     "sourceId": 2680,
     "sourceType": "datasetVersion"
    },
    {
     "sourceId": 29091115,
     "sourceType": "kernelVersion"
    }
   ],
   "dockerImageVersionId": 30664,
   "isGpuEnabled": false,
   "isInternetEnabled": true,
   "language": "python",
   "sourceType": "notebook"
  },
  "kernelspec": {
   "display_name": "ia",
   "language": "python",
   "name": "python3"
  },
  "language_info": {
   "codemirror_mode": {
    "name": "ipython",
    "version": 3
   },
   "file_extension": ".py",
   "mimetype": "text/x-python",
   "name": "python",
   "nbconvert_exporter": "python",
   "pygments_lexer": "ipython3",
   "version": "3.11.11"
  }
 },
 "nbformat": 4,
 "nbformat_minor": 4
}

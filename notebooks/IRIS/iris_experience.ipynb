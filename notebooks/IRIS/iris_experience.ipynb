{
 "cells": [
  {
   "cell_type": "code",
   "execution_count": 5,
   "id": "6ff6c1af",
   "metadata": {},
   "outputs": [],
   "source": [
    "import pandas as pd\n",
    "import numpy as np\n",
    "import matplotlib.pyplot as plt\n",
    "import seaborn as sns\n",
    "from sklearn.model_selection import train_test_split\n",
    "from sklearn.ensemble import RandomForestClassifier\n",
    "from sklearn.metrics import accuracy_score, classification_report, confusion_matrix\n",
    "from sklearn.preprocessing import StandardScaler # Iris features are numeric, scaling can be good\n",
    "from sklearn.datasets import load_iris\n",
    "\n",
    "import joblib\n",
    "\n",
    "# Optional: Configure visualisations\n",
    "sns.set_style('whitegrid')\n",
    "plt.rcParams['figure.figsize'] = (10, 6)"
   ]
  },
  {
   "cell_type": "code",
   "execution_count": 6,
   "id": "a13231ae",
   "metadata": {},
   "outputs": [],
   "source": [
    "# Warnings are not shown\n",
    "import warnings\n",
    "warnings.filterwarnings('ignore')\n"
   ]
  },
  {
   "cell_type": "markdown",
   "id": "2cd78f2e",
   "metadata": {},
   "source": [
    "# Étape 1 : Chargement et Prétraitement des Données (Iris)"
   ]
  },
  {
   "cell_type": "code",
   "execution_count": 7,
   "id": "a211f46c",
   "metadata": {},
   "outputs": [
    {
     "name": "stdout",
     "output_type": "stream",
     "text": [
      "--- Chargement et Prétraitement du Dataset Iris ---\n",
      "--- Aperçu des données initiales (Iris) ---\n",
      "   sepal length (cm)  sepal width (cm)  petal length (cm)  petal width (cm)\n",
      "0                5.1               3.5                1.4               0.2\n",
      "1                4.9               3.0                1.4               0.2\n",
      "2                4.7               3.2                1.3               0.2\n",
      "3                4.6               3.1                1.5               0.2\n",
      "4                5.0               3.6                1.4               0.2\n",
      "\n",
      "Classes cibles: [np.str_('setosa'), np.str_('versicolor'), np.str_('virginica')]\n",
      "Noms des caractéristiques: ['sepal length (cm)', 'sepal width (cm)', 'petal length (cm)', 'petal width (cm)']\n",
      "\n",
      "--- Informations sur le dataset ---\n",
      "<class 'pandas.core.frame.DataFrame'>\n",
      "RangeIndex: 150 entries, 0 to 149\n",
      "Data columns (total 4 columns):\n",
      " #   Column             Non-Null Count  Dtype  \n",
      "---  ------             --------------  -----  \n",
      " 0   sepal length (cm)  150 non-null    float64\n",
      " 1   sepal width (cm)   150 non-null    float64\n",
      " 2   petal length (cm)  150 non-null    float64\n",
      " 3   petal width (cm)   150 non-null    float64\n",
      "dtypes: float64(4)\n",
      "memory usage: 4.8 KB\n",
      "\n",
      "--- Valeurs manquantes par colonne ---\n",
      "sepal length (cm)    0\n",
      "sepal width (cm)     0\n",
      "petal length (cm)    0\n",
      "petal width (cm)     0\n",
      "dtype: int64\n",
      "\n",
      "--- Dimensions de X après prétraitement ---\n",
      "(150, 4)\n",
      "\n",
      "--- Aperçu de X après prétraitement ---\n",
      "   sepal length (cm)  sepal width (cm)  petal length (cm)  petal width (cm)\n",
      "0          -0.900681          1.019004          -1.340227         -1.315444\n",
      "1          -1.143017         -0.131979          -1.340227         -1.315444\n",
      "2          -1.385353          0.328414          -1.397064         -1.315444\n",
      "3          -1.506521          0.098217          -1.283389         -1.315444\n",
      "4          -1.021849          1.249201          -1.340227         -1.315444\n",
      "\n",
      "--- Données prétraitées X_iris_preprocessed.csv et y_iris_preprocessed.csv enregistrées. ---\n",
      "Dimensions de X_train: (120, 4), y_train: (120,)\n",
      "Dimensions de X_test: (30, 4), y_test: (30,)\n"
     ]
    }
   ],
   "source": [
    "print(\"--- Chargement et Prétraitement du Dataset Iris ---\")\n",
    "\n",
    "# Load the Iris dataset\n",
    "iris = load_iris()\n",
    "X_raw = pd.DataFrame(iris.data, columns=iris.feature_names)\n",
    "y = pd.Series(iris.target, name='species')\n",
    "class_names = list(iris.target_names)\n",
    "feature_names = list(iris.feature_names)\n",
    "\n",
    "print(\"--- Aperçu des données initiales (Iris) ---\")\n",
    "print(X_raw.head())\n",
    "print(f\"\\nClasses cibles: {class_names}\")\n",
    "print(f\"Noms des caractéristiques: {feature_names}\")\n",
    "\n",
    "print(\"\\n--- Informations sur le dataset ---\")\n",
    "X_raw.info()\n",
    "print(\"\\n--- Valeurs manquantes par colonne ---\")\n",
    "print(X_raw.isnull().sum()) # Expected to be zero for Iris\n",
    "\n",
    "# --- Prétraitement ---\n",
    "# For Iris, features are all numerical. We'll apply standard scaling.\n",
    "# No complex imputation or encoding needed like for Titanic.\n",
    "\n",
    "scaler = StandardScaler()\n",
    "X_processed_array = scaler.fit_transform(X_raw)\n",
    "X_processed_df = pd.DataFrame(X_processed_array, columns=feature_names)\n",
    "\n",
    "print(\"\\n--- Dimensions de X après prétraitement ---\")\n",
    "print(X_processed_df.shape)\n",
    "print(\"\\n--- Aperçu de X après prétraitement ---\")\n",
    "print(X_processed_df.head())\n",
    "\n",
    "# --- Enregistrement des données prétraitées (Optionnel pour Iris, mais pour la cohérence) ---\n",
    "X_processed_df.to_csv('X_iris_preprocessed.csv', index=False)\n",
    "y.to_csv('y_iris_preprocessed.csv', index=False, header=['species'])\n",
    "print(\"\\n--- Données prétraitées X_iris_preprocessed.csv et y_iris_preprocessed.csv enregistrées. ---\")\n",
    "\n",
    "# --- Séparation des données en ensembles d'entraînement et de test ---\n",
    "X_train, X_test, y_train, y_test = train_test_split(\n",
    "    X_processed_df, y, test_size=0.2, random_state=42, stratify=y\n",
    ")\n",
    "\n",
    "print(f\"Dimensions de X_train: {X_train.shape}, y_train: {y_train.shape}\")\n",
    "print(f\"Dimensions de X_test: {X_test.shape}, y_test: {y_test.shape}\")"
   ]
  },
  {
   "cell_type": "markdown",
   "id": "4ba9e7ae",
   "metadata": {},
   "source": [
    "# Étape 2 : Entraînement et Évaluation du Modèle Black-Box"
   ]
  },
  {
   "cell_type": "code",
   "execution_count": 8,
   "id": "b9428309",
   "metadata": {},
   "outputs": [
    {
     "name": "stdout",
     "output_type": "stream",
     "text": [
      "\n",
      "--- Entraînement du Modèle Black-Box (Random Forest) sur Iris ---\n",
      "Accuracy du modèle Black-Box (Random Forest) sur Iris: 0.9333\n",
      "\n",
      "Classification Report du Black-Box (Iris):\n",
      "              precision    recall  f1-score   support\n",
      "\n",
      "      setosa       1.00      1.00      1.00        10\n",
      "  versicolor       0.90      0.90      0.90        10\n",
      "   virginica       0.90      0.90      0.90        10\n",
      "\n",
      "    accuracy                           0.93        30\n",
      "   macro avg       0.93      0.93      0.93        30\n",
      "weighted avg       0.93      0.93      0.93        30\n",
      "\n",
      "\n",
      "Confusion Matrix du Black-Box (Iris):\n",
      "[[10  0  0]\n",
      " [ 0  9  1]\n",
      " [ 0  1  9]]\n",
      "\n",
      "--- Modèle blackbox_model_iris.JOBLIB enregistré. ---\n"
     ]
    }
   ],
   "source": [
    "print(\"\\n--- Entraînement du Modèle Black-Box (Random Forest) sur Iris ---\")\n",
    "\n",
    "# Initialize Random Forest classifier\n",
    "# For multiclass, ensure it handles it appropriately (RandomForestClassifier does)\n",
    "blackbox_model_iris = RandomForestClassifier(n_estimators=100, random_state=42, class_weight='balanced')\n",
    "\n",
    "# Train the model\n",
    "blackbox_model_iris.fit(X_train, y_train)\n",
    "\n",
    "# Make predictions on the test set\n",
    "y_pred_blackbox_iris = blackbox_model_iris.predict(X_test)\n",
    "\n",
    "# Evaluate the model\n",
    "accuracy_blackbox_iris = accuracy_score(y_test, y_pred_blackbox_iris)\n",
    "print(f\"Accuracy du modèle Black-Box (Random Forest) sur Iris: {accuracy_blackbox_iris:.4f}\")\n",
    "print(\"\\nClassification Report du Black-Box (Iris):\")\n",
    "print(classification_report(y_test, y_pred_blackbox_iris, target_names=class_names))\n",
    "print(\"\\nConfusion Matrix du Black-Box (Iris):\")\n",
    "print(confusion_matrix(y_test, y_pred_blackbox_iris))\n",
    "\n",
    "# --- Enregistrement du modèle black-box ---\n",
    "joblib.dump(blackbox_model_iris, 'blackbox_model_iris.JOBLIB')\n",
    "print(\"\\n--- Modèle blackbox_model_iris.JOBLIB enregistré. ---\")"
   ]
  }
 ],
 "metadata": {
  "kernelspec": {
   "display_name": "ia",
   "language": "python",
   "name": "python3"
  },
  "language_info": {
   "codemirror_mode": {
    "name": "ipython",
    "version": 3
   },
   "file_extension": ".py",
   "mimetype": "text/x-python",
   "name": "python",
   "nbconvert_exporter": "python",
   "pygments_lexer": "ipython3",
   "version": "3.11.11"
  }
 },
 "nbformat": 4,
 "nbformat_minor": 5
}
